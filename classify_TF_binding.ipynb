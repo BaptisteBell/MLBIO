{
  "cells": [
    {
      "cell_type": "markdown",
      "metadata": {
        "id": "BpI9eESpkREM"
      },
      "source": [
        "# Ex1: Onehot coding DNA\n",
        "\n",
        "Write a function called **onehot_dna(dna_str)** that allows to encode a DNA segment where each base is encoded as a vector of all zeros except one in a specific position. The result of this function is an array numpy.  DNA is a long chain of repeating bases strung together. There are 4 bases: A, C, G, T. For example, \"AACCCAAATCGGGGG\" is a DNA segment.\n",
        "\n",
        "\n",
        "\n",
        "For example, **onehot_dna('AAT')** should return\n",
        "\n",
        "array([[1, 0, 0, 0],\n",
        "       [1, 0, 0, 0],\n",
        "       [0, 0, 0, 1]])\n",
        "\n",
        "\n",
        "\n",
        "\n"
      ]
    },
    {
      "cell_type": "code",
      "execution_count": 4,
      "metadata": {
        "id": "YbhaCZP1moii"
      },
      "outputs": [],
      "source": [
        "import numpy as np\n",
        "\n",
        "def onehot_dna(string):\n",
        "  onehot = []\n",
        "\n",
        "  for c in string:\n",
        "    if c == 'A':\n",
        "      onehot.append([1, 0, 0, 0])\n",
        "    elif c == 'C':\n",
        "      onehot.append([0, 1, 0, 0])\n",
        "    elif c == 'G':\n",
        "      onehot.append([0, 0, 1, 0])\n",
        "    else:\n",
        "      onehot.append([0, 0, 0, 1])\n",
        "\n",
        "  return np.array(onehot)"
      ]
    },
    {
      "cell_type": "code",
      "execution_count": 5,
      "metadata": {
        "colab": {
          "base_uri": "https://localhost:8080/"
        },
        "id": "WM-BaQiGo82A",
        "outputId": "5d8b62ec-8c7c-4365-ce39-c70a5d85417f"
      },
      "outputs": [
        {
          "output_type": "execute_result",
          "data": {
            "text/plain": [
              "array([[1, 0, 0, 0],\n",
              "       [1, 0, 0, 0],\n",
              "       [0, 0, 0, 1]])"
            ]
          },
          "metadata": {},
          "execution_count": 5
        }
      ],
      "source": [
        "onehot_dna('AAT')"
      ]
    },
    {
      "cell_type": "markdown",
      "metadata": {
        "id": "AkSQo19z60n1"
      },
      "source": [
        "# Deep learning to classify Transcription Factor Biding\n",
        "\n",
        "\n",
        "In the next exercises, we will learn how to use Deep learning to predict whether a segment of DNA does include or does not include a sit where JUND binds. (JUND is a particular transcription factor).\n",
        "\n",
        "In this purpose, we will use data that is extracted from the chapter 6 of the book: 'Deep learning for the life science'. This book is written by B.Ramsundar, P.Eastman, P. Walters and V.Pande.\n",
        "\n"
      ]
    },
    {
      "cell_type": "markdown",
      "metadata": {
        "id": "1ZR5GVMIr3Ne"
      },
      "source": [
        "By looking at the Wikipedia page of the Jund transcription factor, explain what is the use of such protein"
      ]
    },
    {
      "cell_type": "markdown",
      "source": [
        "**Réponse**  \n",
        "La protéine JUND est un facteur de transcription appartenant à la famille des protéines JUN, qui inclut d'autres membres comme c-Jun. Ces protéines jouent un rôle clé dans la régulation de l'expression des gènes en se liant à des séquences spécifiques d'ADN, souvent à des sites appelés sites de liaison AP-1. Les protéines JUN, y compris JUND, sont impliquées dans plusieurs processus cellulaires cruciaux tels que la prolifération cellulaire, la différenciation et l'apoptose (la mort programmée des cellules), des processus essentiels au bon fonctionnement cellulaire et au développement des tissus."
      ],
      "metadata": {
        "id": "OfDp7Kmtv36P"
      }
    },
    {
      "cell_type": "markdown",
      "metadata": {
        "id": "Cci4KkXpr3Ne"
      },
      "source": [
        "\n",
        "Data consist of DNA segments that have been split up from a full chromosome. Each segment is of 101 bases long and has been labeled to indicate whether it does or does not include a site where JUND binds to.\n",
        "\n",
        "\n",
        "This is a binary classification problem.\n",
        "The process of creating a PyTorch neural network binary classifier consists of several steps:\n",
        "\n",
        "1. Prepare the training and test data\n",
        "\n",
        "2. Implement a Dataset object to serve up the data\n",
        "\n",
        "3. Design and implement a neural network\n",
        "\n",
        "4. Write code to train the network\n",
        "\n",
        "5. Write code to evaluate the model (the trained network)\n"
      ]
    },
    {
      "cell_type": "markdown",
      "metadata": {
        "id": "XS8a5oOmOjqO"
      },
      "source": [
        "# Ex 2:  Load Data\n",
        "\n",
        "The data is available here : https://drive.google.com/drive/folders/1-nrTvNvEZo6Px1pnT7IeotKZR7p365UJ?usp=sharing\n",
        "\n",
        "1. With the help of the joblib library, load the following files for training set:  **y_train.joblib**, **X_train.joblib**  and then store the results in variables **y_train, X_train** ,respectively.\n",
        "\n",
        "2. Do the same thing for the test set: load  **y_test.joblib**, **X_test.joblib**  and then store the results in variables **y_test, X_test**, respectively.\n",
        "\n",
        "3. What are the shape of **X_train** and **y_train** ? How many DNA segments are there in traning set ?\n",
        "\n",
        "4. Display a DNA segment from **X_train** (using matplotlib.pyplot.imshow ).\n",
        "\n",
        "5. Plot the histogram of **y_train** to see whether data is imbalanced or not.\n"
      ]
    },
    {
      "cell_type": "code",
      "execution_count": 6,
      "metadata": {
        "id": "NB5Y5StQezcZ"
      },
      "outputs": [],
      "source": [
        "import joblib\n",
        "\n",
        "# Load the joblib file (example: 'model.joblib')\n",
        "X_test = joblib.load('/content/X_test.joblib')\n",
        "X_train = joblib.load('/content/X_train.joblib')\n",
        "y_test = joblib.load('/content/y_test.joblib')\n",
        "y_train = joblib.load('/content/y_train.joblib')"
      ]
    },
    {
      "cell_type": "code",
      "execution_count": 7,
      "metadata": {
        "id": "FMLs0OOTV4E5"
      },
      "outputs": [],
      "source": [
        "''' Tests X_train, y_train '''\n",
        "assert(X_train.shape == (4672, 101, 4))\n",
        "assert(y_train.shape ==(4672, 1))"
      ]
    },
    {
      "cell_type": "code",
      "execution_count": 8,
      "metadata": {
        "id": "9g9rlIr2AAy6",
        "colab": {
          "base_uri": "https://localhost:8080/",
          "height": 453
        },
        "outputId": "21fe47c9-d767-4d49-c5d0-5473556e1bee"
      },
      "outputs": [
        {
          "output_type": "execute_result",
          "data": {
            "text/plain": [
              "<matplotlib.colorbar.Colorbar at 0x7d24a0543f70>"
            ]
          },
          "metadata": {},
          "execution_count": 8
        },
        {
          "output_type": "display_data",
          "data": {
            "text/plain": [
              "<Figure size 640x480 with 2 Axes>"
            ],
            "image/png": "[encoded data removed]"
          },
          "metadata": {}
        }
      ],
      "source": [
        "import matplotlib.pyplot as plt\n",
        "\n",
        "plt.imshow(X_train[1])\n",
        "plt.colorbar()"
      ]
    },
    {
      "cell_type": "code",
      "execution_count": 9,
      "metadata": {
        "id": "RO7DeSen_W_h"
      },
      "outputs": [],
      "source": [
        "''' Tests X_test, y_test'''\n",
        "assert(X_test.shape == (584, 101, 4))\n",
        "assert(y_test.shape ==(584, 1))\n"
      ]
    },
    {
      "cell_type": "code",
      "execution_count": 10,
      "metadata": {
        "id": "TceRZcS3MENp",
        "colab": {
          "base_uri": "https://localhost:8080/",
          "height": 472
        },
        "outputId": "c9b7fc3f-a4cc-4bac-ba13-0587623a61a6"
      },
      "outputs": [
        {
          "output_type": "display_data",
          "data": {
            "text/plain": [
              "<Figure size 640x480 with 1 Axes>"
            ],
            "image/png": "[encoded data removed]"
          },
          "metadata": {}
        }
      ],
      "source": [
        "plt.hist(y_train)\n",
        "\n",
        "plt.xlabel('Values')\n",
        "plt.ylabel('Frequency')\n",
        "plt.title('Histogram of y_train')\n",
        "\n",
        "plt.show()"
      ]
    },
    {
      "cell_type": "markdown",
      "metadata": {
        "id": "EajNPJrnAmde"
      },
      "source": [
        "# Ex 3: Convert numpy array to tensor pytorch\n",
        "\n",
        "As you see in the previous exercise, **X_train** consists of 4672 segments. Each segment is encoded by 0 and 1 (one-hot encoding).\n",
        "\n",
        "\n",
        "1. Convert numpy array **X_train**, **y_train** into pytorch tensor. Reshape **X_train** to (4672, 4, 101). Note that the type of **X_train** and **y_train** should be float.\n",
        "\n",
        "2. Do the same thing for **X_test** and **y_test**\n"
      ]
    },
    {
      "cell_type": "code",
      "execution_count": 11,
      "metadata": {
        "id": "E8eedW_yPUKu"
      },
      "outputs": [],
      "source": [
        "import torch\n",
        "X_train_ts = torch.Tensor(X_train).view(4672, 4, 101)\n",
        "y_train_ts = torch.Tensor(y_train)\n"
      ]
    },
    {
      "cell_type": "code",
      "execution_count": 12,
      "metadata": {
        "id": "GrBcHzR-E-yR"
      },
      "outputs": [],
      "source": [
        "''' Tests X_train_ts, y_train_ts '''\n",
        "assert(type(X_train_ts) is torch.Tensor)\n",
        "assert(type(y_train_ts) is torch.Tensor)\n",
        "assert(X_train_ts.shape == (4672, 4, 101))\n"
      ]
    },
    {
      "cell_type": "code",
      "execution_count": 13,
      "metadata": {
        "id": "Wn_0dOuVHWhs"
      },
      "outputs": [],
      "source": [
        "X_test_ts = torch.Tensor(X_test).view(584, 4, 101)\n",
        "y_test_ts = torch.Tensor(y_test)"
      ]
    },
    {
      "cell_type": "code",
      "execution_count": 14,
      "metadata": {
        "id": "o_it3skAH0Yt"
      },
      "outputs": [],
      "source": [
        "''' Tests the above ToDo. '''\n",
        "assert(type(X_test_ts) is torch.Tensor)\n",
        "assert(type(y_test_ts) is torch.Tensor)\n",
        "assert(X_test_ts.shape == (584, 4, 101))\n"
      ]
    },
    {
      "cell_type": "markdown",
      "metadata": {
        "id": "mEYJBjBdg547"
      },
      "source": [
        "# Ex4: Create Dataset\n",
        "In order to train a deep learning model with Pytorch, we need a pytorch dataset.\n",
        "The DNADataset class below allows for creating a pytorch Dataset from DNA segments and their labels.\n",
        "\n",
        "1. Using this class, create a dataset for training set. You should call it **train_dataset**\n",
        "\n",
        "2. Create **Dataloader** from **train_dataset**. You should call it **train_loader**.\n",
        "\n",
        "3. Do the same thing for the test set."
      ]
    },
    {
      "cell_type": "code",
      "execution_count": 15,
      "metadata": {
        "id": "GkvyOQVggLz_"
      },
      "outputs": [],
      "source": [
        "class DNADataset(torch.utils.data.Dataset):\n",
        "    def __init__(self, dna, labels):\n",
        "        self.labels = labels\n",
        "        self.dna = dna\n",
        "\n",
        "\n",
        "    def __len__(self):\n",
        "        return len(self.labels)\n",
        "\n",
        "\n",
        "    def __getitem__(self, idx):\n",
        "        label = self.labels[idx]\n",
        "        frag_dna = self.dna[idx]\n",
        "\n",
        "        sample = {'DNA': frag_dna, 'Class': label}\n",
        "\n",
        "        return sample"
      ]
    },
    {
      "cell_type": "code",
      "source": [
        "from torch.utils.data import DataLoader, TensorDataset\n",
        "\n",
        "train_dataset = DNADataset(X_train_ts, y_train_ts)\n",
        "train_loader = DataLoader(train_dataset, batch_size=32, shuffle=True)\n",
        "\n",
        "test_dataset = DNADataset(X_test_ts, y_test_ts)\n",
        "test_loader = DataLoader(test_dataset, batch_size=32)"
      ],
      "metadata": {
        "id": "IEpohdPb0tEp"
      },
      "execution_count": 16,
      "outputs": []
    },
    {
      "cell_type": "markdown",
      "metadata": {
        "id": "O_d7J-rFbiig"
      },
      "source": [
        "**train_loader** is a generator. To get data out of it, you need to loop through it or convert it to an iterator and call next()"
      ]
    },
    {
      "cell_type": "code",
      "execution_count": 17,
      "metadata": {
        "colab": {
          "base_uri": "https://localhost:8080/"
        },
        "id": "PJQK0ZaLMpKF",
        "outputId": "47ffd946-4e97-4634-bf21-ff1c13f4c78c"
      },
      "outputs": [
        {
          "output_type": "stream",
          "name": "stdout",
          "text": [
            "a batch data  torch.Size([32, 4, 101])\n",
            "Shape of label torch.Size([32, 1])\n"
          ]
        }
      ],
      "source": [
        "# Run this to test your data loader\n",
        "data = next(iter(train_loader))\n",
        "dna = data['DNA']\n",
        "label = data['Class']\n",
        "print(\"a batch data \", dna.shape)\n",
        "print(\"Shape of label\", label.shape)"
      ]
    },
    {
      "cell_type": "markdown",
      "metadata": {
        "id": "VDcbP17Rb2xt"
      },
      "source": [
        "# Design and implement a convolutional neural network\n",
        "\n",
        "Now, it's time to build your model. This is a binary classification problem. We can use a convolution neural network, just like an image classification problem. However, since the size of a DNA segment is (4, 101), we will use 1D convolution instead of 2D convolution.\n",
        "\n",
        "\n",
        "\n",
        "Firstly, we will test how does a 1D convolution work on our data.\n",
        "\n"
      ]
    },
    {
      "cell_type": "markdown",
      "metadata": {
        "id": "xlPP4E3UfRYe"
      },
      "source": [
        "# EX 5: 1D Convolution\n",
        "\n",
        "1. With the help of the torch.nn.Conv1d class, create a 1D convolutional layer. You need to choose values for the following parameters: **in_channels**, **out_channels**, **kernel_size**.\n",
        "\n",
        "\n",
        "2. Apply this layer to **dna_seg** below. What is the size of the output ?\n",
        "\n",
        "\n",
        "3. [Optional] Display the output by using matplotlib.pyplot.imshow\n",
        "\n",
        "\n"
      ]
    },
    {
      "cell_type": "code",
      "execution_count": 18,
      "metadata": {
        "id": "C9y0yRXhhj1F"
      },
      "outputs": [],
      "source": [
        "data = next(iter(train_loader))\n",
        "dna_seg = data['DNA']\n",
        "y = data['Class']"
      ]
    },
    {
      "cell_type": "code",
      "execution_count": 19,
      "metadata": {
        "id": "FJ9uE489imxl"
      },
      "outputs": [],
      "source": [
        "import torch.nn as nn\n",
        "\n",
        "conv1d_layer = nn.Conv1d(in_channels=4, out_channels=16, kernel_size=3)"
      ]
    },
    {
      "cell_type": "code",
      "source": [
        "output = conv1d_layer(dna_seg)\n",
        "print(output.shape)"
      ],
      "metadata": {
        "colab": {
          "base_uri": "https://localhost:8080/"
        },
        "id": "xn2b2OS75Xh0",
        "outputId": "67eb8f03-6abb-4873-e493-46e0f8dba8b4"
      },
      "execution_count": 20,
      "outputs": [
        {
          "output_type": "stream",
          "name": "stdout",
          "text": [
            "torch.Size([32, 16, 99])\n"
          ]
        }
      ]
    },
    {
      "cell_type": "markdown",
      "metadata": {
        "id": "H26rAy0wkbca"
      },
      "source": [
        "# EX 6: Build a model\n",
        "\n",
        "Create a 3 layer 1-dimensional network to classify the TF binding sites"
      ]
    },
    {
      "cell_type": "code",
      "execution_count": 34,
      "metadata": {
        "id": "L_bs8O3lhB7m"
      },
      "outputs": [],
      "source": [
        "import torch.nn as nn\n",
        "import torch.nn.functional as F\n",
        "\n",
        "class DeepDNA(nn.Module):\n",
        "  def __init__(self, num_classes=2):\n",
        "        super(DeepDNA, self).__init__()\n",
        "\n",
        "        self.conv1 = nn.Conv1d(in_channels=4, out_channels=16, kernel_size=3, padding=1)\n",
        "        self.conv2 = nn.Conv1d(in_channels=16, out_channels=32, kernel_size=3, padding=1)\n",
        "        self.conv3 = nn.Conv1d(in_channels=32, out_channels=64, kernel_size=3, padding=1)\n",
        "\n",
        "        self.pool = nn.MaxPool1d(kernel_size=2, stride=2)\n",
        "\n",
        "        self.fc1 = nn.Linear(768, 32)\n",
        "        self.fc2 = nn.Linear(32, 1)\n",
        "\n",
        "  def forward(self, x):\n",
        "        x = F.relu(self.conv1(x))\n",
        "        x = self.pool(x)\n",
        "\n",
        "        x = F.relu(self.conv2(x))\n",
        "        x = self.pool(x)\n",
        "\n",
        "        x = F.relu(self.conv3(x))\n",
        "        x = self.pool(x)\n",
        "\n",
        "        x = x.view(x.size(0), -1)\n",
        "\n",
        "        x = F.relu(self.fc1(x))\n",
        "        x = self.fc2(x)\n",
        "        x = torch.sigmoid(x)\n",
        "\n",
        "        return x"
      ]
    },
    {
      "cell_type": "markdown",
      "metadata": {
        "id": "HVbFqM4laclu"
      },
      "source": [
        "# Ex 7 Test the model\n",
        "\n",
        "\n",
        "1. Create an instance of the DeepDNA class named **net**.\n",
        "\n",
        "2. Print out the variable **net** to see detailed information about the model.\n",
        "\n",
        "3. Pass **dna_seg** below to **net** in order to  test if your model **net** works well.\n",
        "\n",
        "4. What is the size of the output ?\n",
        "\n"
      ]
    },
    {
      "cell_type": "code",
      "execution_count": 35,
      "metadata": {
        "colab": {
          "base_uri": "https://localhost:8080/"
        },
        "id": "ladQCir7btvX",
        "outputId": "13e2ef69-4b2f-439c-df33-10a2946c319f"
      },
      "outputs": [
        {
          "output_type": "stream",
          "name": "stdout",
          "text": [
            "the output of the model  tensor([[0.5295],\n",
            "        [0.5269],\n",
            "        [0.5260],\n",
            "        [0.5259],\n",
            "        [0.5288]], grad_fn=<SliceBackward0>)\n"
          ]
        }
      ],
      "source": [
        "#data = next(iter(train_loader))\n",
        "dna_seg = data['DNA']\n",
        "\n",
        "##### TO DO #######\n",
        "\n",
        "net = DeepDNA(101)\n",
        "out = net(dna_seg)\n",
        "\n",
        "print(\"the output of the model \", out[:5])\n",
        "\n"
      ]
    },
    {
      "cell_type": "code",
      "execution_count": 31,
      "metadata": {
        "colab": {
          "base_uri": "https://localhost:8080/"
        },
        "id": "RFzp7DbtlTwG",
        "outputId": "d1e47172-fa46-425f-c97d-b69834afc8b2"
      },
      "outputs": [
        {
          "output_type": "stream",
          "name": "stdout",
          "text": [
            "DeepDNA(\n",
            "  (conv1): Conv1d(4, 16, kernel_size=(3,), stride=(1,), padding=(1,))\n",
            "  (conv2): Conv1d(16, 32, kernel_size=(3,), stride=(1,), padding=(1,))\n",
            "  (conv3): Conv1d(32, 64, kernel_size=(3,), stride=(1,), padding=(1,))\n",
            "  (pool): MaxPool1d(kernel_size=2, stride=2, padding=0, dilation=1, ceil_mode=False)\n",
            "  (fc1): Linear(in_features=768, out_features=32, bias=True)\n",
            "  (fc2): Linear(in_features=32, out_features=1, bias=True)\n",
            ")\n"
          ]
        }
      ],
      "source": [
        "print(net)"
      ]
    },
    {
      "cell_type": "markdown",
      "metadata": {
        "id": "yypmG11hr_so"
      },
      "source": [
        "# Ex 8: Define loss function and optimizer\n",
        "\n",
        "\n",
        "1. Define an SGD optimizer for the model. You need to choose the learning rate for your model.\n",
        "\n",
        "2. Define a Binary Cross Entropy (BCE) Loss  function.\n"
      ]
    },
    {
      "cell_type": "code",
      "execution_count": 36,
      "metadata": {
        "id": "uZwQKSrxh1A_"
      },
      "outputs": [],
      "source": [
        "## TODO ###\n",
        "import numpy as np\n",
        "\n",
        "optimizer = torch.optim.SGD(net.parameters(), lr = 0.001)\n",
        "criterion = nn.BCELoss()\n"
      ]
    },
    {
      "cell_type": "markdown",
      "metadata": {
        "id": "7rEjVjhetI6A"
      },
      "source": [
        "# Ex 9: Training your model\n",
        "\n",
        "The following function allows to train the model for one epoch. This function returns total loss per epoch.\n",
        "Implement the training pass for this function.\n",
        "\n",
        "\n",
        "\n",
        "The general process with PyTorch for one learning step consits of several steps:\n",
        "\n",
        "1. Make a forward pass through the network\n",
        "2. Use the network output to calculate the loss\n",
        "3. Perform a backward pass through the network with loss.backward() to calculate the gradients\n",
        "4. Take a step with the optimizer to update the weights\n",
        "\n"
      ]
    },
    {
      "cell_type": "code",
      "execution_count": 37,
      "metadata": {
        "id": "oAil9eU9iNCf"
      },
      "outputs": [],
      "source": [
        "def train():\n",
        "    net.train()\n",
        "    loss_epoch = 0\n",
        "    for batch_data in train_loader:\n",
        "\n",
        "      dna = batch_data['DNA']\n",
        "      labels = batch_data['Class']\n",
        "\n",
        "      outputs = net(dna)\n",
        "      loss = criterion(outputs, labels)\n",
        "\n",
        "      optimizer.zero_grad()\n",
        "      loss.backward()\n",
        "      optimizer.step()\n",
        "\n",
        "      loss_epoch += loss.item()\n",
        "\n",
        "    return loss_epoch / len(train_loader)"
      ]
    },
    {
      "cell_type": "markdown",
      "metadata": {
        "id": "Pz0VV2Oenftq"
      },
      "source": [
        "# Ex 11: Accuracy Calculation\n",
        "\n",
        "Write a function named **compute_num_correct_pred(y_prob, y_label)** that allows to compute the number of correct predictions. **y_prob** and **y_label** should be pytorch tensors.\n",
        "\n",
        "For example,\n",
        "y_prob = [[0.3],[0.4], [0.8], [0.7]].\n",
        "\n",
        "y = [[0], [1], [1], [0]].\n",
        "\n",
        "This function should return 2."
      ]
    },
    {
      "cell_type": "code",
      "execution_count": 38,
      "metadata": {
        "id": "JZ3cRawWpFe7"
      },
      "outputs": [],
      "source": [
        "### TODO ####\n",
        "def compute_num_correct_pred(y_prob, y_label):\n",
        "    predicted_labels = (y_prob >= 0.5).float()\n",
        "\n",
        "    correct_predictions = (predicted_labels == y_label).sum().item()\n",
        "\n",
        "    return correct_predictions"
      ]
    },
    {
      "cell_type": "code",
      "source": [
        "#Test example\n",
        "y_prob = torch.tensor([[0.3], [0.4], [0.8], [0.7]])\n",
        "y_label = torch.tensor([[0], [1], [1], [0]])\n",
        "\n",
        "num_correct = compute_num_correct_pred(y_prob, y_label)\n",
        "print(num_correct)"
      ],
      "metadata": {
        "colab": {
          "base_uri": "https://localhost:8080/"
        },
        "id": "q2zN_rn9HS41",
        "outputId": "7dada2b1-04a4-482d-de08-f2faef0de837"
      },
      "execution_count": 42,
      "outputs": [
        {
          "output_type": "stream",
          "name": "stdout",
          "text": [
            "2\n"
          ]
        }
      ]
    },
    {
      "cell_type": "markdown",
      "metadata": {
        "id": "3N_g4DA-vex8"
      },
      "source": [
        "\n",
        "The function below allows to calculate the accuracy of the model on dataset loader. Execute this function to see if you implemented the compute_num_correct_pred function correctly."
      ]
    },
    {
      "cell_type": "code",
      "execution_count": 43,
      "metadata": {
        "id": "FY9V2-NCvv25"
      },
      "outputs": [],
      "source": [
        "def test(loader):\n",
        "  net.eval()\n",
        "\n",
        "  correct = 0\n",
        "  with torch.no_grad():\n",
        "    for data in loader:\n",
        "      dna = data['DNA']\n",
        "      y = data['Class']\n",
        "\n",
        "      out = net(dna)\n",
        "      correct += compute_num_correct_pred(out, y)\n",
        "\n",
        "  return correct / len(loader.dataset)"
      ]
    },
    {
      "cell_type": "code",
      "source": [
        "accuracy = test(test_loader)\n",
        "print(f\"Test Accuracy: {accuracy}\")"
      ],
      "metadata": {
        "colab": {
          "base_uri": "https://localhost:8080/"
        },
        "id": "BMU0STEQRTsr",
        "outputId": "5a45f611-c062-4226-dfb0-cd11b2dfc6d2"
      },
      "execution_count": 47,
      "outputs": [
        {
          "output_type": "stream",
          "name": "stdout",
          "text": [
            "Test Accuracy: 0.7363013698630136\n"
          ]
        }
      ]
    },
    {
      "cell_type": "markdown",
      "metadata": {
        "id": "I0vTKeeQ3wGb"
      },
      "source": [
        "# Ex 12: Training the model\n",
        "\n",
        "The code below allows to train your model on 10 epoches. If all work well, you should see the training loss drop with each epoch.\n",
        "\n",
        "train the model for 2000 epochs"
      ]
    },
    {
      "cell_type": "code",
      "source": [
        "num_epochs = 10\n",
        "\n",
        "for epoch in range(num_epochs):\n",
        "    train_loss = train()\n",
        "    print(f\"Epoch [{epoch+1}/{num_epochs}], Train Loss: {train_loss:.4f}\")"
      ],
      "metadata": {
        "colab": {
          "base_uri": "https://localhost:8080/"
        },
        "id": "CRJ2jn2XPSco",
        "outputId": "a694e49d-e858-4597-ad1f-c30c9e293bec"
      },
      "execution_count": 46,
      "outputs": [
        {
          "output_type": "stream",
          "name": "stdout",
          "text": [
            "Epoch [1/10], Train Loss: 0.4937\n",
            "Epoch [2/10], Train Loss: 0.4936\n",
            "Epoch [3/10], Train Loss: 0.4923\n",
            "Epoch [4/10], Train Loss: 0.4936\n",
            "Epoch [5/10], Train Loss: 0.4934\n",
            "Epoch [6/10], Train Loss: 0.4932\n",
            "Epoch [7/10], Train Loss: 0.4938\n",
            "Epoch [8/10], Train Loss: 0.4931\n",
            "Epoch [9/10], Train Loss: 0.4920\n",
            "Epoch [10/10], Train Loss: 0.4920\n"
          ]
        }
      ]
    },
    {
      "cell_type": "code",
      "execution_count": 45,
      "metadata": {
        "id": "K-vkWpKLixGE",
        "colab": {
          "base_uri": "https://localhost:8080/"
        },
        "outputId": "3f78d3d9-8e80-4dce-a757-48ccb0a07f7a"
      },
      "outputs": [
        {
          "output_type": "stream",
          "name": "stdout",
          "text": [
            "Epoch [1/2000], Train Loss: 0.5638\n",
            "Epoch [101/2000], Train Loss: 0.5623\n",
            "Epoch [201/2000], Train Loss: 0.5622\n",
            "Epoch [301/2000], Train Loss: 0.5620\n",
            "Epoch [401/2000], Train Loss: 0.5618\n",
            "Epoch [501/2000], Train Loss: 0.5616\n",
            "Epoch [601/2000], Train Loss: 0.5614\n",
            "Epoch [701/2000], Train Loss: 0.5611\n",
            "Epoch [801/2000], Train Loss: 0.5608\n",
            "Epoch [901/2000], Train Loss: 0.5604\n",
            "Epoch [1001/2000], Train Loss: 0.5599\n",
            "Epoch [1101/2000], Train Loss: 0.5593\n",
            "Epoch [1201/2000], Train Loss: 0.5584\n",
            "Epoch [1301/2000], Train Loss: 0.5572\n",
            "Epoch [1401/2000], Train Loss: 0.5553\n",
            "Epoch [1501/2000], Train Loss: 0.5524\n",
            "Epoch [1601/2000], Train Loss: 0.5479\n",
            "Epoch [1701/2000], Train Loss: 0.5410\n",
            "Epoch [1801/2000], Train Loss: 0.5304\n",
            "Epoch [1901/2000], Train Loss: 0.5152\n"
          ]
        }
      ],
      "source": [
        "num_epochs = 2000\n",
        "\n",
        "for epoch in range(num_epochs):\n",
        "    train_loss = train()\n",
        "    if epoch % 100 == 0:\n",
        "      print(f\"Epoch [{epoch+1}/{num_epochs}], Train Loss: {train_loss:.4f}\")"
      ]
    },
    {
      "cell_type": "markdown",
      "metadata": {
        "id": "WX_FGbp4tV0Z"
      },
      "source": [
        "# Ex13 (optional)\n",
        "\n",
        "\n",
        "\n",
        "1. If we use torch.nn.BCEWithLogitsLoss(), what does we need to change to the definition of the model ?\n",
        "\n",
        "\n",
        "\n",
        "2. The same question for torch.nn.CrossEntropyLoss() loss.  "
      ]
    },
    {
      "cell_type": "markdown",
      "source": [
        "*Answer*\n",
        "1. We should remove the sigmoid on forward function.\n",
        "2. The same than the question 1., we should remove activation function (sigmoid here)\n"
      ],
      "metadata": {
        "id": "kiHVJQ80SR80"
      }
    }
  ],
  "metadata": {
    "colab": {
      "provenance": []
    },
    "kernelspec": {
      "display_name": "Python 3 (ipykernel)",
      "language": "python",
      "name": "python3"
    },
    "language_info": {
      "codemirror_mode": {
        "name": "ipython",
        "version": 3
      },
      "file_extension": ".py",
      "mimetype": "text/x-python",
      "name": "python",
      "nbconvert_exporter": "python",
      "pygments_lexer": "ipython3",
      "version": "3.12.3"
    }
  },
  "nbformat": 4,
  "nbformat_minor": 0
}