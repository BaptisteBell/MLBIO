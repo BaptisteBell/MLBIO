{
  "cells": [
    {
      "cell_type": "markdown",
      "metadata": {
        "id": "VrUQnEXXvf2o"
      },
      "source": [
        "# Install rdkit\n",
        "\n",
        "using pypi or whatever install rdkit\n"
      ]
    },
    {
      "cell_type": "code",
      "execution_count": 10,
      "metadata": {
        "colab": {
          "base_uri": "https://localhost:8080/"
        },
        "id": "9qJCFDsxp3wJ",
        "outputId": "aff8c0c9-5f4a-48f7-f90d-31073d62a6bb"
      },
      "outputs": [
        {
          "name": "stdout",
          "output_type": "stream",
          "text": [
            "Requirement already satisfied: rdkit in /usr/local/lib/python3.10/dist-packages (2024.9.1)\n",
            "Requirement already satisfied: numpy in /usr/local/lib/python3.10/dist-packages (from rdkit) (1.26.4)\n",
            "Requirement already satisfied: Pillow in /usr/local/lib/python3.10/dist-packages (from rdkit) (11.0.0)\n"
          ]
        }
      ],
      "source": [
        "!pip install rdkit"
      ]
    },
    {
      "cell_type": "code",
      "execution_count": 14,
      "metadata": {
        "id": "kzNuAD0x-uQH"
      },
      "outputs": [],
      "source": [
        "import warnings\n",
        "\n",
        "warnings.filterwarnings(\"ignore\")\n",
        "warnings.filterwarnings(\"ignore\", category=DeprecationWarning)"
      ]
    },
    {
      "cell_type": "markdown",
      "metadata": {
        "id": "TYs-WClCqSsy"
      },
      "source": [
        "## Ex 1. Read molecules from SMILES\n",
        "\n",
        "SMILES (Simplified Molecular-Input Line-Entry System) is a popular method for specifying molecules with text string. The RDkit library provides utilities to read molecules from SMILES.\n",
        "\n",
        "\n",
        "Paracetamol (Acetaminophen) is a commonly used medicine that can help treat pain and reduce a high temperature. It's given by the chemical formula $ C_8H_9N O_2$ and its SMILES is \"CC(=O)NC1=CC=C(O)C=C1\".\n",
        "\n",
        "\n",
        "1. Create the paracetamol molecule from its SMILES using the rdkit.Chem.MolFromSmiles class.\n",
        "\n",
        "\n",
        "2. Visualize its structure (it's sufficient to print the paracetamol molecule or to use rdkit.Chem.Draw.MolToImage())\n",
        "\n",
        "\n",
        "3. Print out the number of atoms. Did you get 11 ? It should be 20 atoms ? Why ?\n",
        "\n",
        "\n",
        "\n",
        "4. Print out the list of atoms.\n",
        "\n",
        "\n",
        "5. Find the number of bonds.\n",
        "\n"
      ]
    },
    {
      "cell_type": "code",
      "execution_count": 12,
      "metadata": {
        "id": "1_8LDbzft4ad"
      },
      "outputs": [],
      "source": [
        "from rdkit import Chem\n",
        "from rdkit.Chem import Draw"
      ]
    },
    {
      "cell_type": "code",
      "execution_count": 13,
      "metadata": {
        "colab": {
          "base_uri": "https://localhost:8080/",
          "height": 317
        },
        "id": "ccbbFmLOqDJV",
        "outputId": "6e17e16e-f5dc-42da-d302-e5026292f476"
      },
      "outputs": [
        {
          "data": {
            "image/jpeg": "[encoded data removed]",
            "image/png": "[encoded data removed]",
            "text/plain": [
              "<PIL.PngImagePlugin.PngImageFile image mode=RGB size=300x300>"
            ]
          },
          "execution_count": 13,
          "metadata": {},
          "output_type": "execute_result"
        }
      ],
      "source": [
        "smiles = \"CC(=O)NC1=CC=C(O)C=C1\"\n",
        "paracetamol = Chem.MolFromSmiles(smiles)\n",
        "Draw.MolToImage(paracetamol)"
      ]
    },
    {
      "cell_type": "code",
      "execution_count": 15,
      "metadata": {
        "colab": {
          "base_uri": "https://localhost:8080/"
        },
        "id": "XH609q_BuBR4",
        "outputId": "584ceaa8-b230-4436-96a3-5c53d282ca8b"
      },
      "outputs": [
        {
          "name": "stdout",
          "output_type": "stream",
          "text": [
            "Number of atoms: 11\n",
            "List of atoms: ['C', 'C', 'O', 'N', 'C', 'C', 'C', 'C', 'O', 'C', 'C']\n",
            "Number of bonds: 11\n"
          ]
        }
      ],
      "source": [
        "print(f\"Number of atoms: {paracetamol.GetNumAtoms()}\")\n",
        "print(f\"List of atoms: {[atom.GetSymbol() for atom in paracetamol.GetAtoms()]}\")\n",
        "print(f\"Number of bonds: {paracetamol.GetNumBonds()}\")"
      ]
    },
    {
      "cell_type": "markdown",
      "metadata": {
        "id": "5ch4vabFuReu"
      },
      "source": [
        "## Ex 2 Read data from chemical file format\n",
        "\n",
        "Apart SMILES, .SDF/ .Mol are also the common formats to save molecules. RDKit provides also functionalities to read these files.\n",
        "\n",
        "\n",
        "Morphine is an opioid agonist used for the relief of moderate to severe acute and chronic pain. The chemical information of this drug can be found at\n",
        "the following url: https://go.drugbank.com/structures/small_molecule_drugs/DB00295.sdf\n",
        "\n",
        "\n",
        "1. Download this file and save it in a folder.\n",
        "\n",
        "\n",
        "2. Read the morphine molecule from the file that you've downloaded using \"rdkit.Chem.SDMolSupplier\"\n",
        "\n",
        "\n",
        "3. With the help of rdkit.Chem.AllChem.GetMorganFingerprintAsBitVect, compute its fingerprint as a bit vector."
      ]
    },
    {
      "cell_type": "code",
      "execution_count": 16,
      "metadata": {
        "id": "9VLF599Yv5V1"
      },
      "outputs": [],
      "source": [
        "from rdkit.Chem import AllChem\n",
        "from rdkit.Chem import SDMolSupplier"
      ]
    },
    {
      "cell_type": "code",
      "execution_count": 17,
      "metadata": {
        "colab": {
          "base_uri": "https://localhost:8080/"
        },
        "id": "VY51zSZBukT9",
        "outputId": "22dd0d07-9997-4994-85aa-e42197f956b5"
      },
      "outputs": [
        {
          "name": "stderr",
          "output_type": "stream",
          "text": [
            "[18:29:19] DEPRECATION WARNING: please use MorganGenerator\n"
          ]
        }
      ],
      "source": [
        "sdf_file_path = 'DB00295.sdf'\n",
        "suppl = SDMolSupplier(sdf_file_path)\n",
        "\n",
        "morphine = suppl[0]\n",
        "\n",
        "all_chem_morpine = AllChem.GetMorganFingerprintAsBitVect(morphine, morphine.GetNumBonds())"
      ]
    },
    {
      "cell_type": "markdown",
      "metadata": {
        "id": "gljbmF6p3RX8"
      },
      "source": [
        "## EX3. Fingerprints\n",
        "\n",
        "\n",
        "A chemical structure can be characterized by a set of numerical values known as molecular fingerprints. They may be 2D Fragment-based fingerprints presented by bit arrays of 0s and 1s wherein each bit position indicates the presence or absence of structural fragments.\n",
        "\n",
        "\n",
        "The RDKit has a variety of built-in functionality for generating molecular fingerprints and then using them to calculate molecular similarity. In this exercise, we will generate the fingerprints for parcetamol and aspirin that are two popular drugs used for pains.\n",
        "\n",
        "\n",
        "\n",
        "1. Compute the fingerprint of the paracetamol as bit vector by using the rdkit.AllChem.GetMorganFingerprintAsBitVectCompute Class. Convert it to a numpy vector. Known that Paracetamol's SMILES is \"\"CC(=O)OC1=CC=CC=C1C(O)=O\". Choose the number of bits nBits= 1024. Find the elements that are nonzero of the vector.\n",
        "\n",
        "2. Do the same thing for the aspirin. Aspirin's SMILES is \"CC(=O)NC1=CC=C(O)C=C1\".\n",
        "\n",
        "\n",
        "\n",
        "3. Using rdkit.DataStructs.DiceSimilarity(), compute the DiceSimilarity between the fingerprints of the paracetamol and the aspirin."
      ]
    },
    {
      "cell_type": "code",
      "execution_count": 18,
      "metadata": {
        "id": "Mdcrsau5wtjc"
      },
      "outputs": [],
      "source": [
        "import numpy as np\n",
        "from rdkit import DataStructs"
      ]
    },
    {
      "cell_type": "code",
      "execution_count": 19,
      "metadata": {
        "colab": {
          "base_uri": "https://localhost:8080/"
        },
        "id": "8PALjOz5232Z",
        "outputId": "dbdeee46-465b-487b-87b3-54c7b00681a1"
      },
      "outputs": [
        {
          "name": "stdout",
          "output_type": "stream",
          "text": [
            "paracetamol_fingerprints_non_zero : [   3   11   23   33   64   82  175  356  386  389  423  443  444  456\n",
            "  541  589  592  650  695  705  726  740  751  807  841  849  893  909\n",
            "  946  967 1017] | len = 31\n"
          ]
        },
        {
          "name": "stderr",
          "output_type": "stream",
          "text": [
            "[18:29:24] DEPRECATION WARNING: please use MorganGenerator\n"
          ]
        }
      ],
      "source": [
        "para_smiles = \"CC(=O)OC1=CC=CC=C1C(O)=O\"\n",
        "paracetamol_mol = Chem.MolFromSmiles(para_smiles)\n",
        "paracetamol_fingerprints = AllChem.GetMorganFingerprintAsBitVect(paracetamol_mol, paracetamol_mol.GetNumBonds(), nBits=1024)\n",
        "\n",
        "fingerprint_array = np.array(paracetamol_fingerprints)\n",
        "paracetamol_fingerprints_non_zero = np.nonzero(fingerprint_array)[0]\n",
        "print(f'paracetamol_fingerprints_non_zero : {paracetamol_fingerprints_non_zero} | len = {len(paracetamol_fingerprints_non_zero)}')\n"
      ]
    },
    {
      "cell_type": "code",
      "execution_count": 20,
      "metadata": {
        "colab": {
          "base_uri": "https://localhost:8080/"
        },
        "id": "GKM9bai6xnfO",
        "outputId": "66550b54-8331-4306-c1a0-06e0b5145d96"
      },
      "outputs": [
        {
          "name": "stdout",
          "output_type": "stream",
          "text": [
            "aspirine_fingerprints_non_zero : [  33   53  128  145  191  231  245  289  356  530  578  640  650  693\n",
            "  726  745  754  792  807  812  843  849  893 1017] | len = 24\n"
          ]
        },
        {
          "name": "stderr",
          "output_type": "stream",
          "text": [
            "[18:29:26] DEPRECATION WARNING: please use MorganGenerator\n"
          ]
        }
      ],
      "source": [
        "smiles_asp = \"CC(=O)NC1=CC=C(O)C=C1\"\n",
        "aspirine_mol = Chem.MolFromSmiles(smiles_asp)\n",
        "aspirine_fingerprints = AllChem.GetMorganFingerprintAsBitVect(aspirine_mol, aspirine_mol.GetNumBonds(), nBits=1024)\n",
        "\n",
        "fingerprint_array_asp = np.array(aspirine_fingerprints)\n",
        "aspirine_fingerprints_non_zero = np.nonzero(fingerprint_array_asp)[0]\n",
        "print(f'aspirine_fingerprints_non_zero : {aspirine_fingerprints_non_zero} | len = {len(aspirine_fingerprints_non_zero)}')"
      ]
    },
    {
      "cell_type": "code",
      "execution_count": 21,
      "metadata": {
        "colab": {
          "base_uri": "https://localhost:8080/"
        },
        "id": "xnAVvop0yPYe",
        "outputId": "2e00cfb9-744c-4316-eed6-0c10fd19cf1e"
      },
      "outputs": [
        {
          "name": "stdout",
          "output_type": "stream",
          "text": [
            "0.2909090909090909\n"
          ]
        }
      ],
      "source": [
        "similarity = DataStructs.DiceSimilarity(aspirine_fingerprints, paracetamol_fingerprints)\n",
        "print(similarity)"
      ]
    },
    {
      "cell_type": "markdown",
      "metadata": {
        "id": "GZXsjZGw3ofC"
      },
      "source": [
        "## EX 4: Descriptors\n",
        "\n",
        "Molecules are also described by a set of physiochemical descriptors. They should be the log partition coefficient, the polar surface area ... that describe the molecule's structure.\n",
        "\n",
        "\n",
        "RDKit provides utilities that allow us to compute descriptor of molecules.\n",
        "Using the rdkit.ML.Descriptors.MoleculeDescriptors.MolecularDescriptorCalculator class, compute the descriptor for paracetamol molecule from SMILES string. Note that SMILES string for paracetamol is \"CC(=O)NC1=CC=C(O)C=C1\"\n",
        "\n"
      ]
    },
    {
      "cell_type": "code",
      "execution_count": 22,
      "metadata": {
        "id": "vQcACF5K3l1y"
      },
      "outputs": [],
      "source": [
        "from rdkit.Chem import Descriptors\n",
        "from rdkit.ML.Descriptors import MoleculeDescriptors"
      ]
    },
    {
      "cell_type": "code",
      "execution_count": 23,
      "metadata": {
        "colab": {
          "base_uri": "https://localhost:8080/"
        },
        "id": "nUzcj95czBfE",
        "outputId": "2f0e4715-213e-43e7-9db8-0dc18df899e1"
      },
      "outputs": [
        {
          "name": "stdout",
          "output_type": "stream",
          "text": [
            "MaxAbsEStateIndex: 10.611948223733938\n",
            "MaxEStateIndex: 10.611948223733938\n",
            "MinAbsEStateIndex: 0.01601851851851821\n",
            "MinEStateIndex: -1.1140277777777776\n",
            "qed: 0.5501217966938848\n",
            "SPS: 9.307692307692308\n",
            "MolWt: 180.15899999999996\n",
            "HeavyAtomMolWt: 172.09499999999997\n",
            "ExactMolWt: 180.042258736\n",
            "NumValenceElectrons: 68\n",
            "NumRadicalElectrons: 0\n",
            "MaxPartialCharge: 0.33900378687731025\n",
            "MinPartialCharge: -0.4775395271554559\n",
            "MaxAbsPartialCharge: 0.4775395271554559\n",
            "MinAbsPartialCharge: 0.33900378687731025\n",
            "FpDensityMorgan1: 1.3076923076923077\n",
            "FpDensityMorgan2: 1.9230769230769231\n",
            "FpDensityMorgan3: 2.4615384615384617\n",
            "BCUT2D_MWHI: 16.536111221254316\n",
            "BCUT2D_MWLOW: 10.182282381035344\n",
            "BCUT2D_CHGHI: 2.1043069809578547\n",
            "BCUT2D_CHGLO: -2.0311320919470144\n",
            "BCUT2D_LOGPHI: 2.1698345568128037\n",
            "BCUT2D_LOGPLOW: -2.0630000619642956\n",
            "BCUT2D_MRHI: 5.913065796110139\n",
            "BCUT2D_MRLOW: -0.13141434244030778\n",
            "AvgIpc: 2.0325369160995868\n",
            "BalabanJ: 3.0435273546341013\n",
            "BertzCT: 343.2228677267164\n",
            "Chi0: 9.844934982691242\n",
            "Chi0n: 6.9813595436500515\n",
            "Chi0v: 6.9813595436500515\n",
            "Chi1: 6.109060905280622\n",
            "Chi1n: 3.6174536478673316\n",
            "Chi1v: 3.6174536478673316\n",
            "Chi2n: 2.3949556783206725\n",
            "Chi2v: 2.3949556783206725\n",
            "Chi3n: 1.3711546649445037\n",
            "Chi3v: 1.3711546649445037\n",
            "Chi4n: 0.8871712192374142\n",
            "Chi4v: 0.8871712192374142\n",
            "HallKierAlpha: -1.8399999999999999\n",
            "Ipc: 729.6807528797516\n",
            "Kappa1: 9.249605734767023\n",
            "Kappa2: 3.7092512583454584\n",
            "Kappa3: 2.297415032519928\n",
            "LabuteASA: 74.75705264447721\n",
            "PEOE_VSA1: 9.843390348640755\n",
            "PEOE_VSA10: 11.3129633249809\n",
            "PEOE_VSA11: 0.0\n",
            "PEOE_VSA12: 0.0\n",
            "PEOE_VSA13: 0.0\n",
            "PEOE_VSA14: 11.938610575903699\n",
            "PEOE_VSA2: 4.794537184071822\n",
            "PEOE_VSA3: 4.794537184071822\n",
            "PEOE_VSA4: 0.0\n",
            "PEOE_VSA5: 0.0\n",
            "PEOE_VSA6: 12.13273413692322\n",
            "PEOE_VSA7: 12.13273413692322\n",
            "PEOE_VSA8: 6.923737199690624\n",
            "PEOE_VSA9: 0.0\n",
            "SMR_VSA1: 19.4324647167844\n",
            "SMR_VSA10: 11.938610575903699\n",
            "SMR_VSA2: 0.0\n",
            "SMR_VSA3: 0.0\n",
            "SMR_VSA4: 0.0\n",
            "SMR_VSA5: 6.923737199690624\n",
            "SMR_VSA6: 0.0\n",
            "SMR_VSA7: 29.828919765543436\n",
            "SMR_VSA8: 0.0\n",
            "SMR_VSA9: 5.749511833283905\n",
            "SlogP_VSA1: 4.736862953800049\n",
            "SlogP_VSA10: 0.0\n",
            "SlogP_VSA11: 5.749511833283905\n",
            "SlogP_VSA12: 0.0\n",
            "SlogP_VSA2: 17.045137970744406\n",
            "SlogP_VSA3: 4.794537184071822\n",
            "SlogP_VSA4: 0.0\n",
            "SlogP_VSA5: 17.28172587545944\n",
            "SlogP_VSA6: 24.26546827384644\n",
            "SlogP_VSA7: 0.0\n",
            "SlogP_VSA8: 0.0\n",
            "SlogP_VSA9: 0.0\n",
            "TPSA: 63.6\n",
            "EState_VSA1: 11.938610575903699\n",
            "EState_VSA10: 9.589074368143644\n",
            "EState_VSA11: 0.0\n",
            "EState_VSA2: 11.3129633249809\n",
            "EState_VSA3: 0.0\n",
            "EState_VSA4: 0.0\n",
            "EState_VSA5: 19.056471336613843\n",
            "EState_VSA6: 12.13273413692322\n",
            "EState_VSA7: 0.0\n",
            "EState_VSA8: 4.736862953800049\n",
            "EState_VSA9: 5.106527394840706\n",
            "VSA_EState1: 4.686898148148147\n",
            "VSA_EState10: 0.0\n",
            "VSA_EState2: 21.184767573696142\n",
            "VSA_EState3: 8.687243008314436\n",
            "VSA_EState4: -0.01601851851851821\n",
            "VSA_EState5: -1.5758796296296294\n",
            "VSA_EState6: 5.978792517006803\n",
            "VSA_EState7: 0.0\n",
            "VSA_EState8: 1.2208635676492818\n",
            "VSA_EState9: 0.0\n",
            "FractionCSP3: 0.1111111111111111\n",
            "HeavyAtomCount: 13\n",
            "NHOHCount: 1\n",
            "NOCount: 4\n",
            "NumAliphaticCarbocycles: 0\n",
            "NumAliphaticHeterocycles: 0\n",
            "NumAliphaticRings: 0\n",
            "NumAromaticCarbocycles: 1\n",
            "NumAromaticHeterocycles: 0\n",
            "NumAromaticRings: 1\n",
            "NumHAcceptors: 3\n",
            "NumHDonors: 1\n",
            "NumHeteroatoms: 4\n",
            "NumRotatableBonds: 2\n",
            "NumSaturatedCarbocycles: 0\n",
            "NumSaturatedHeterocycles: 0\n",
            "NumSaturatedRings: 0\n",
            "RingCount: 1\n",
            "MolLogP: 1.3101\n",
            "MolMR: 44.71030000000002\n",
            "fr_Al_COO: 0\n",
            "fr_Al_OH: 0\n",
            "fr_Al_OH_noTert: 0\n",
            "fr_ArN: 0\n",
            "fr_Ar_COO: 1\n",
            "fr_Ar_N: 0\n",
            "fr_Ar_NH: 0\n",
            "fr_Ar_OH: 0\n",
            "fr_COO: 1\n",
            "fr_COO2: 1\n",
            "fr_C_O: 2\n",
            "fr_C_O_noCOO: 1\n",
            "fr_C_S: 0\n",
            "fr_HOCCN: 0\n",
            "fr_Imine: 0\n",
            "fr_NH0: 0\n",
            "fr_NH1: 0\n",
            "fr_NH2: 0\n",
            "fr_N_O: 0\n",
            "fr_Ndealkylation1: 0\n",
            "fr_Ndealkylation2: 0\n",
            "fr_Nhpyrrole: 0\n",
            "fr_SH: 0\n",
            "fr_aldehyde: 0\n",
            "fr_alkyl_carbamate: 0\n",
            "fr_alkyl_halide: 0\n",
            "fr_allylic_oxid: 0\n",
            "fr_amide: 0\n",
            "fr_amidine: 0\n",
            "fr_aniline: 0\n",
            "fr_aryl_methyl: 0\n",
            "fr_azide: 0\n",
            "fr_azo: 0\n",
            "fr_barbitur: 0\n",
            "fr_benzene: 1\n",
            "fr_benzodiazepine: 0\n",
            "fr_bicyclic: 0\n",
            "fr_diazo: 0\n",
            "fr_dihydropyridine: 0\n",
            "fr_epoxide: 0\n",
            "fr_ester: 1\n",
            "fr_ether: 1\n",
            "fr_furan: 0\n",
            "fr_guanido: 0\n",
            "fr_halogen: 0\n",
            "fr_hdrzine: 0\n",
            "fr_hdrzone: 0\n",
            "fr_imidazole: 0\n",
            "fr_imide: 0\n",
            "fr_isocyan: 0\n",
            "fr_isothiocyan: 0\n",
            "fr_ketone: 0\n",
            "fr_ketone_Topliss: 0\n",
            "fr_lactam: 0\n",
            "fr_lactone: 0\n",
            "fr_methoxy: 0\n",
            "fr_morpholine: 0\n",
            "fr_nitrile: 0\n",
            "fr_nitro: 0\n",
            "fr_nitro_arom: 0\n",
            "fr_nitro_arom_nonortho: 0\n",
            "fr_nitroso: 0\n",
            "fr_oxazole: 0\n",
            "fr_oxime: 0\n",
            "fr_para_hydroxylation: 1\n",
            "fr_phenol: 0\n",
            "fr_phenol_noOrthoHbond: 0\n",
            "fr_phos_acid: 0\n",
            "fr_phos_ester: 0\n",
            "fr_piperdine: 0\n",
            "fr_piperzine: 0\n",
            "fr_priamide: 0\n",
            "fr_prisulfonamd: 0\n",
            "fr_pyridine: 0\n",
            "fr_quatN: 0\n",
            "fr_sulfide: 0\n",
            "fr_sulfonamd: 0\n",
            "fr_sulfone: 0\n",
            "fr_term_acetylene: 0\n",
            "fr_tetrazole: 0\n",
            "fr_thiazole: 0\n",
            "fr_thiocyan: 0\n",
            "fr_thiophene: 0\n",
            "fr_unbrch_alkane: 0\n",
            "fr_urea: 0\n"
          ]
        }
      ],
      "source": [
        "descriptor_names = [desc_name for desc_name, _ in Descriptors._descList]\n",
        "calculator = MoleculeDescriptors.MolecularDescriptorCalculator(descriptor_names)\n",
        "descriptor_values = calculator.CalcDescriptors(paracetamol_mol)\n",
        "for name, value in zip(descriptor_names, descriptor_values):\n",
        "    print(f\"{name}: {value}\")"
      ]
    },
    {
      "cell_type": "markdown",
      "metadata": {
        "id": "SvHtYagP31vo"
      },
      "source": [
        "## Ex5: SMART\n",
        "\n",
        "In many commonly used applications, we need to determine whether atoms in a molecule match a particular pattern. It can be used for filtering structures or identifying substructures that are associated with toxicological problem.\n",
        "\n",
        "SMART us an extension of the SMILES language that can be used to create queries.\n",
        "\n",
        "1. Find molecules in the following list named \"smiles_list\" that contain the \"CCC\" pattern (you can use the GetSubstructMatch class).\n",
        "\n",
        "\n",
        "2. Highlight the pattern \"CCC\" in these molecules.\n",
        "\n",
        "\n",
        "3. Do the same thing ex 1 but for the pattern \"C(=O)N\"."
      ]
    },
    {
      "cell_type": "code",
      "execution_count": 27,
      "metadata": {
        "colab": {
          "base_uri": "https://localhost:8080/",
          "height": 293
        },
        "id": "mXqKwAO03xQi",
        "outputId": "f3a252e9-0987-4d33-dc65-8c90615fa8bd"
      },
      "outputs": [
        {
          "name": "stdout",
          "output_type": "stream",
          "text": [
            "Molecules containing the 'CCC' pattern:\n",
            "[<rdkit.Chem.rdchem.Mol object at 0x7f2d1d4607b0>]\n",
            "\n",
            "Molecules containing the 'C(=O)N' pattern:\n"
          ]
        },
        {
          "data": {
            "image/svg+xml": [
              "<svg xmlns=\"http://www.w3.org/2000/svg\" xmlns:rdkit=\"http://www.rdkit.org/xml\" xmlns:xlink=\"http://www.w3.org/1999/xlink\" version=\"1.1\" baseProfile=\"full\" xml:space=\"preserve\" width=\"600px\" height=\"200px\" viewBox=\"0 0 600 200\">\n",
              "<!-- END OF HEADER -->\n",
              "<rect style=\"opacity:1.0;fill:#FFFFFF;stroke:none\" width=\"600.0\" height=\"200.0\" x=\"0.0\" y=\"0.0\"> </rect>\n",
              "<path class=\"bond-1 atom-1 atom-2\" d=\"M 66.1,38.4 L 81.9,38.4 L 81.9,107.7 L 66.1,116.8 Z\" style=\"fill:#FF7F7F;fill-rule:evenodd;fill-opacity:1;stroke:#FF7F7F;stroke-width:0.0px;stroke-linecap:butt;stroke-linejoin:miter;stroke-opacity:1;\"/>\n",
              "<path class=\"bond-2 atom-1 atom-3\" d=\"M 81.9,107.7 L 142.0,142.4 L 134.1,156.1 L 66.1,116.8 Z\" style=\"fill:#FF7F7F;fill-rule:evenodd;fill-opacity:1;stroke:#FF7F7F;stroke-width:0.0px;stroke-linecap:butt;stroke-linejoin:miter;stroke-opacity:1;\"/>\n",
              "<ellipse cx=\"74.0\" cy=\"112.3\" rx=\"14.8\" ry=\"14.8\" class=\"atom-1\" style=\"fill:#FF7F7F;fill-rule:evenodd;stroke:#FF7F7F;stroke-width:1.0px;stroke-linecap:butt;stroke-linejoin:miter;stroke-opacity:1\"/>\n",
              "<ellipse cx=\"74.0\" cy=\"38.5\" rx=\"14.8\" ry=\"15.2\" class=\"atom-2\" style=\"fill:#FF7F7F;fill-rule:evenodd;stroke:#FF7F7F;stroke-width:1.0px;stroke-linecap:butt;stroke-linejoin:miter;stroke-opacity:1\"/>\n",
              "<ellipse cx=\"154.9\" cy=\"154.5\" rx=\"35.1\" ry=\"22.2\" class=\"atom-3\" style=\"fill:#FF7F7F;fill-rule:evenodd;stroke:#FF7F7F;stroke-width:1.0px;stroke-linecap:butt;stroke-linejoin:miter;stroke-opacity:1\"/>\n",
              "<path class=\"bond-0 atom-0 atom-1\" d=\"M 10.0,149.2 L 74.0,112.3\" style=\"fill:none;fill-rule:evenodd;stroke:#000000;stroke-width:2.0px;stroke-linecap:butt;stroke-linejoin:miter;stroke-opacity:1\"/>\n",
              "<path class=\"bond-1 atom-1 atom-2\" d=\"M 79.6,115.5 L 79.6,51.7\" style=\"fill:none;fill-rule:evenodd;stroke:#000000;stroke-width:2.0px;stroke-linecap:butt;stroke-linejoin:miter;stroke-opacity:1\"/>\n",
              "<path class=\"bond-1 atom-1 atom-2\" d=\"M 68.5,115.5 L 68.5,51.7\" style=\"fill:none;fill-rule:evenodd;stroke:#000000;stroke-width:2.0px;stroke-linecap:butt;stroke-linejoin:miter;stroke-opacity:1\"/>\n",
              "<path class=\"bond-2 atom-1 atom-3\" d=\"M 74.0,112.3 L 127.7,143.2\" style=\"fill:none;fill-rule:evenodd;stroke:#000000;stroke-width:2.0px;stroke-linecap:butt;stroke-linejoin:miter;stroke-opacity:1\"/>\n",
              "<path d=\"M 70.8,114.1 L 74.0,112.3 L 76.7,113.8\" style=\"fill:none;stroke:#000000;stroke-width:2.0px;stroke-linecap:butt;stroke-linejoin:miter;stroke-opacity:1;\"/>\n",
              "<path class=\"atom-2\" d=\"M 64.4 38.4 Q 64.4 33.4, 66.9 30.6 Q 69.4 27.8, 74.0 27.8 Q 78.7 27.8, 81.1 30.6 Q 83.6 33.4, 83.6 38.4 Q 83.6 43.5, 81.1 46.4 Q 78.6 49.3, 74.0 49.3 Q 69.4 49.3, 66.9 46.4 Q 64.4 43.5, 64.4 38.4 M 74.0 46.9 Q 77.2 46.9, 78.9 44.8 Q 80.7 42.6, 80.7 38.4 Q 80.7 34.3, 78.9 32.2 Q 77.2 30.1, 74.0 30.1 Q 70.8 30.1, 69.1 32.2 Q 67.4 34.3, 67.4 38.4 Q 67.4 42.6, 69.1 44.8 Q 70.8 46.9, 74.0 46.9 \" fill=\"#000000\"/>\n",
              "<path class=\"atom-3\" d=\"M 133.4 138.8 L 140.3 149.9 Q 140.9 151.0, 142.0 152.9 Q 143.1 154.9, 143.2 155.0 L 143.2 138.8 L 146.0 138.8 L 146.0 159.7 L 143.1 159.7 L 135.7 147.6 Q 134.9 146.2, 134.0 144.5 Q 133.1 142.9, 132.8 142.4 L 132.8 159.7 L 130.1 159.7 L 130.1 138.8 L 133.4 138.8 \" fill=\"#000000\"/>\n",
              "<path class=\"atom-3\" d=\"M 150.0 138.8 L 152.8 138.8 L 152.8 147.7 L 163.5 147.7 L 163.5 138.8 L 166.4 138.8 L 166.4 159.7 L 163.5 159.7 L 163.5 150.0 L 152.8 150.0 L 152.8 159.7 L 150.0 159.7 L 150.0 138.8 \" fill=\"#000000\"/>\n",
              "<path class=\"atom-3\" d=\"M 170.5 159.0 Q 171.0 157.7, 172.2 156.9 Q 173.4 156.2, 175.1 156.2 Q 177.1 156.2, 178.3 157.3 Q 179.5 158.5, 179.5 160.5 Q 179.5 162.5, 178.0 164.4 Q 176.5 166.4, 173.3 168.6 L 179.7 168.6 L 179.7 170.2 L 170.4 170.2 L 170.4 168.9 Q 173.0 167.0, 174.5 165.7 Q 176.1 164.3, 176.8 163.1 Q 177.5 161.8, 177.5 160.6 Q 177.5 159.2, 176.9 158.5 Q 176.2 157.8, 175.1 157.8 Q 173.9 157.8, 173.2 158.2 Q 172.5 158.7, 171.9 159.7 L 170.5 159.0 \" fill=\"#000000\"/>\n",
              "</svg>"
            ],
            "text/plain": [
              "<IPython.core.display.SVG object>"
            ]
          },
          "execution_count": 27,
          "metadata": {},
          "output_type": "execute_result"
        }
      ],
      "source": [
        "from rdkit.Chem.Draw import IPythonConsole\n",
        "from rdkit.Chem import Draw\n",
        "from rdkit.Chem import rdFMCS\n",
        "IPythonConsole.ipython_useSVG=True\n",
        "\n",
        "smiles_list = [\"CCC\", \"CC(=O)N\", \"CC(=O)O\", \"CNC\", \"C1=CC=CC=C1\"]\n",
        "molecules = [Chem.MolFromSmiles(smiles) for smiles in smiles_list]\n",
        "\n",
        "# Find molecules with \"CCC\" pattern\n",
        "pattern_CCC = Chem.MolFromSmarts(\"CCC\")\n",
        "matches_CCC = []\n",
        "for mol in molecules:\n",
        "    if mol.HasSubstructMatch(pattern_CCC):\n",
        "        matches_CCC.append(mol)\n",
        "\n",
        "highlighted_molecules_CCC = []\n",
        "for mol in matches_CCC:\n",
        "  highlighted_molecules_CCC.append(mol)\n",
        "print(\"Molecules containing the 'CCC' pattern:\")\n",
        "print(highlighted_molecules_CCC)\n",
        "\n",
        "pattern_CON = Chem.MolFromSmarts(\"C(=O)N\")\n",
        "matches_CON = []\n",
        "for mol in molecules:\n",
        "    if mol.HasSubstructMatch(pattern_CON):\n",
        "        matches_CON.append(mol)\n",
        "\n",
        "highlighted_molecules_CON = []\n",
        "for mol in matches_CON:\n",
        "  highlighted_molecules_CON.append(Draw.MolToImage(mol, highlightAtoms=mol.GetSubstructMatch(pattern_CON)))\n",
        "\n",
        "print(\"\\nMolecules containing the 'C(=O)N' pattern:\")\n",
        "Draw.MolsToGridImage(matches_CON, molsPerRow=3, highlightAtomLists = [mol.GetSubstructMatch(pattern_CON) for mol in matches_CON])"
      ]
    },
    {
      "cell_type": "code",
      "execution_count": 35,
      "metadata": {
        "colab": {
          "base_uri": "https://localhost:8080/",
          "height": 690
        },
        "id": "SxLVqUeAmaaH",
        "outputId": "7d978888-d4f5-411f-c35f-f77d67dfb17f"
      },
      "outputs": [
        {
          "name": "stdout",
          "output_type": "stream",
          "text": [
            "Molecules containing the pattern 'CCC':\n",
            "  Match 1: CCC\n"
          ]
        },
        {
          "data": {
            "image/jpeg": "[encoded data removed]",
            "image/png": "[encoded data removed]",
            "text/plain": [
              "<PIL.PngImagePlugin.PngImageFile image mode=RGB size=300x300>"
            ]
          },
          "metadata": {},
          "output_type": "display_data"
        },
        {
          "name": "stdout",
          "output_type": "stream",
          "text": [
            "Molecules containing the pattern 'C(=O)N':\n",
            "  Match 1: CC(N)=O\n"
          ]
        },
        {
          "data": {
            "image/jpeg": "[encoded data removed]",
            "image/png": "[encoded data removed]",
            "text/plain": [
              "<PIL.PngImagePlugin.PngImageFile image mode=RGB size=300x300>"
            ]
          },
          "metadata": {},
          "output_type": "display_data"
        }
      ],
      "source": [
        "from rdkit import Chem\n",
        "from rdkit.Chem import Draw\n",
        "\n",
        "#exemple pour smiles_list\n",
        "smiles_list = [\"CCC\", \"CC(=O)N\", \"CC(=O)O\", \"CNC\", \"C1=CC=CC=C1\"]\n",
        "\n",
        "from rdkit import Chem\n",
        "from rdkit.Chem import Draw\n",
        "\n",
        "# Exemple pour smiles_list\n",
        "smiles_list = [\"CCC\", \"CC(=O)N\", \"CC(=O)O\", \"CNC\", \"C1=CC=CC=C1\"]\n",
        "\n",
        "def highlight_patterns(smiles_list, pattern_smarts):\n",
        "    pattern_mol = Chem.MolFromSmarts(pattern_smarts)\n",
        "    matches = []\n",
        "    for smiles in smiles_list:\n",
        "        mol = Chem.MolFromSmiles(smiles)\n",
        "        el = mol.GetSubstructMatch(pattern_mol)\n",
        "        if el:\n",
        "            matches.append((mol, el))\n",
        "    return matches\n",
        "\n",
        "def print_element(pattern_smarts):\n",
        "  matches = highlight_patterns(smiles_list, pattern_smarts)\n",
        "  print(f\"Molecules containing the pattern '{pattern_smarts}':\")\n",
        "  for i, (mol, match) in enumerate(matches):\n",
        "      print(f\"  Match {i + 1}: {Chem.MolToSmiles(mol)}\")\n",
        "\n",
        "      img = Draw.MolToImage(mol, highlightAtoms=match)\n",
        "      display(img)\n",
        "\n",
        "print_element(\"CCC\")\n",
        "print_element(\"C(=O)N\")"
      ]
    },
    {
      "cell_type": "markdown",
      "metadata": {
        "id": "UxbRPmkS4LSq"
      },
      "source": [
        "## Ex6: Machine learning with RDkit - Predict solubility\n",
        "\n",
        "In this exercise, we will use machine learning to predict solubility of molecules. For this purpose, we will borrow a dataset from rdkit that is originated from the Huuskonen dataset. We will try to predict Aqueous Solubility for molecules that is known as \"logS\".\n",
        "\n",
        "\n",
        "This exercise is divided into 3 parts: Preparing a dataset, training a model and preparing dataset for prediction and applying a predictive model.\n",
        "\n"
      ]
    },
    {
      "cell_type": "markdown",
      "metadata": {
        "id": "FpqVGPg_4QaQ"
      },
      "source": [
        "## EX6.I Preparing dataset\n",
        "\n",
        "Preparing dataset requires a few steps:\n",
        "\n",
        "\n",
        "1. Download file from the following link: https://raw.githubusercontent.com/rdkit/rdkit/master/Docs/Book/data/solubility.train.sdf.\n",
        "\n",
        "\n",
        "2. With the help of rdkit.Chem.SDMolSupplier, get list of molecules contained in this file. You should call this list as **molecule_list**. The option **removeHs=False** should be chosen.\n",
        "\n",
        "\n",
        "3. Write a function named **calculate_descriptors(mol)** that allows us to calculate descriptors of a molecule. This function takes a Rdkit molecule as input and returns an array vector of descriptors.\n",
        "\n",
        "\n",
        "4. Apply the function **caluclate_descriptors** to the list of molecules **molecule_list** and store the result in a dataframe named **df**. Look at few rows of **df** to see whether the descriptors are calculated.\n",
        "\n",
        "\n",
        "5. For each molecule from this dataset, we can get the aqueous solubility (logS) via attribute **getProp('SOL')**. Create a list that contains the aqueous solubility of all molecules from the **molecule_list** list. You should call this list by **labels**. Remember to convert these values to float format.\n",
        "\n",
        "\n",
        "6. Plot the histogram of the \"labels\" list to see the distribution of the solubility of molecules. Do you have some comments about the aqueous solubility of molecules ?\n",
        "\n"
      ]
    },
    {
      "cell_type": "code",
      "execution_count": 36,
      "metadata": {
        "id": "LR5_SXNf9j2q"
      },
      "outputs": [],
      "source": [
        "import pandas as pd"
      ]
    },
    {
      "cell_type": "code",
      "execution_count": 37,
      "metadata": {
        "colab": {
          "base_uri": "https://localhost:8080/"
        },
        "id": "uAuDoU7u3_k4",
        "outputId": "84e49b90-378f-4577-a3ac-cbf7b1afcecc"
      },
      "outputs": [
        {
          "name": "stdout",
          "output_type": "stream",
          "text": [
            "Number of molecules loaded: 1025\n"
          ]
        }
      ],
      "source": [
        "sdf_train_path = 'solubility.train.sdf'\n",
        "suppl = SDMolSupplier(sdf_train_path, removeHs=False)\n",
        "\n",
        "molecule_list = [mol for mol in suppl if mol is not None]\n",
        "print(f\"Number of molecules loaded: {len(molecule_list)}\")"
      ]
    },
    {
      "cell_type": "code",
      "execution_count": 38,
      "metadata": {
        "id": "YKgrdNjowHCW"
      },
      "outputs": [],
      "source": [
        "descriptor_names = [desc_name for desc_name, _ in Descriptors._descList]\n",
        "calculator = MoleculeDescriptors.MolecularDescriptorCalculator(descriptor_names)\n",
        "def calculate_descriptors(mol):\n",
        "  descriptor_values = calculator.CalcDescriptors(mol)\n",
        "  return descriptor_values"
      ]
    },
    {
      "cell_type": "code",
      "execution_count": 43,
      "metadata": {
        "colab": {
          "base_uri": "https://localhost:8080/",
          "height": 273
        },
        "id": "AeSKSDC6pR_2",
        "outputId": "da71752b-670c-40ef-9ff9-e496a91c65b7"
      },
      "outputs": [
        {
          "name": "stdout",
          "output_type": "stream",
          "text": [
            "First few rows of the descriptors dataframe:\n"
          ]
        },
        {
          "data": {
            "application/vnd.google.colaboratory.intrinsic+json": {
              "type": "dataframe",
              "variable_name": "df"
            },
            "text/html": [
              "\n",
              "  <div id=\"df-a6d4547d-1a74-49ba-9841-e0b7004d3251\" class=\"colab-df-container\">\n",
              "    <div>\n",
              "<style scoped>\n",
              "    .dataframe tbody tr th:only-of-type {\n",
              "        vertical-align: middle;\n",
              "    }\n",
              "\n",
              "    .dataframe tbody tr th {\n",
              "        vertical-align: top;\n",
              "    }\n",
              "\n",
              "    .dataframe thead th {\n",
              "        text-align: right;\n",
              "    }\n",
              "</style>\n",
              "<table border=\"1\" class=\"dataframe\">\n",
              "  <thead>\n",
              "    <tr style=\"text-align: right;\">\n",
              "      <th></th>\n",
              "      <th>0</th>\n",
              "      <th>1</th>\n",
              "      <th>2</th>\n",
              "      <th>3</th>\n",
              "      <th>4</th>\n",
              "      <th>5</th>\n",
              "      <th>6</th>\n",
              "      <th>7</th>\n",
              "      <th>8</th>\n",
              "      <th>9</th>\n",
              "      <th>...</th>\n",
              "      <th>200</th>\n",
              "      <th>201</th>\n",
              "      <th>202</th>\n",
              "      <th>203</th>\n",
              "      <th>204</th>\n",
              "      <th>205</th>\n",
              "      <th>206</th>\n",
              "      <th>207</th>\n",
              "      <th>208</th>\n",
              "      <th>209</th>\n",
              "    </tr>\n",
              "  </thead>\n",
              "  <tbody>\n",
              "    <tr>\n",
              "      <th>0</th>\n",
              "      <td>2.211806</td>\n",
              "      <td>2.211806</td>\n",
              "      <td>1.343750</td>\n",
              "      <td>1.343750</td>\n",
              "      <td>0.468786</td>\n",
              "      <td>8.4</td>\n",
              "      <td>72.151</td>\n",
              "      <td>60.055</td>\n",
              "      <td>72.09390</td>\n",
              "      <td>32</td>\n",
              "      <td>...</td>\n",
              "      <td>0</td>\n",
              "      <td>0</td>\n",
              "      <td>0</td>\n",
              "      <td>0</td>\n",
              "      <td>0</td>\n",
              "      <td>0</td>\n",
              "      <td>0</td>\n",
              "      <td>0</td>\n",
              "      <td>2</td>\n",
              "      <td>0</td>\n",
              "    </tr>\n",
              "    <tr>\n",
              "      <th>1</th>\n",
              "      <td>1.500000</td>\n",
              "      <td>1.500000</td>\n",
              "      <td>1.500000</td>\n",
              "      <td>1.500000</td>\n",
              "      <td>0.408362</td>\n",
              "      <td>24.0</td>\n",
              "      <td>70.135</td>\n",
              "      <td>60.055</td>\n",
              "      <td>70.07825</td>\n",
              "      <td>30</td>\n",
              "      <td>...</td>\n",
              "      <td>0</td>\n",
              "      <td>0</td>\n",
              "      <td>0</td>\n",
              "      <td>0</td>\n",
              "      <td>0</td>\n",
              "      <td>0</td>\n",
              "      <td>0</td>\n",
              "      <td>0</td>\n",
              "      <td>0</td>\n",
              "      <td>0</td>\n",
              "    </tr>\n",
              "    <tr>\n",
              "      <th>2</th>\n",
              "      <td>2.231806</td>\n",
              "      <td>2.231806</td>\n",
              "      <td>1.355000</td>\n",
              "      <td>1.355000</td>\n",
              "      <td>0.462954</td>\n",
              "      <td>9.0</td>\n",
              "      <td>86.178</td>\n",
              "      <td>72.066</td>\n",
              "      <td>86.10955</td>\n",
              "      <td>38</td>\n",
              "      <td>...</td>\n",
              "      <td>0</td>\n",
              "      <td>0</td>\n",
              "      <td>0</td>\n",
              "      <td>0</td>\n",
              "      <td>0</td>\n",
              "      <td>0</td>\n",
              "      <td>0</td>\n",
              "      <td>0</td>\n",
              "      <td>3</td>\n",
              "      <td>0</td>\n",
              "    </tr>\n",
              "    <tr>\n",
              "      <th>3</th>\n",
              "      <td>2.253472</td>\n",
              "      <td>2.253472</td>\n",
              "      <td>0.898148</td>\n",
              "      <td>0.898148</td>\n",
              "      <td>0.483890</td>\n",
              "      <td>10.0</td>\n",
              "      <td>86.178</td>\n",
              "      <td>72.066</td>\n",
              "      <td>86.10955</td>\n",
              "      <td>38</td>\n",
              "      <td>...</td>\n",
              "      <td>0</td>\n",
              "      <td>0</td>\n",
              "      <td>0</td>\n",
              "      <td>0</td>\n",
              "      <td>0</td>\n",
              "      <td>0</td>\n",
              "      <td>0</td>\n",
              "      <td>0</td>\n",
              "      <td>0</td>\n",
              "      <td>0</td>\n",
              "    </tr>\n",
              "    <tr>\n",
              "      <th>4</th>\n",
              "      <td>2.243056</td>\n",
              "      <td>2.243056</td>\n",
              "      <td>0.541667</td>\n",
              "      <td>0.541667</td>\n",
              "      <td>0.424482</td>\n",
              "      <td>12.0</td>\n",
              "      <td>86.178</td>\n",
              "      <td>72.066</td>\n",
              "      <td>86.10955</td>\n",
              "      <td>38</td>\n",
              "      <td>...</td>\n",
              "      <td>0</td>\n",
              "      <td>0</td>\n",
              "      <td>0</td>\n",
              "      <td>0</td>\n",
              "      <td>0</td>\n",
              "      <td>0</td>\n",
              "      <td>0</td>\n",
              "      <td>0</td>\n",
              "      <td>0</td>\n",
              "      <td>0</td>\n",
              "    </tr>\n",
              "  </tbody>\n",
              "</table>\n",
              "<p>5 rows × 210 columns</p>\n",
              "</div>\n",
              "    <div class=\"colab-df-buttons\">\n",
              "\n",
              "  <div class=\"colab-df-container\">\n",
              "    <button class=\"colab-df-convert\" onclick=\"convertToInteractive('df-a6d4547d-1a74-49ba-9841-e0b7004d3251')\"\n",
              "            title=\"Convert this dataframe to an interactive table.\"\n",
              "            style=\"display:none;\">\n",
              "\n",
              "  <svg xmlns=\"http://www.w3.org/2000/svg\" height=\"24px\" viewBox=\"0 -960 960 960\">\n",
              "    <path d=\"M120-120v-720h720v720H120Zm60-500h600v-160H180v160Zm220 220h160v-160H400v160Zm0 220h160v-160H400v160ZM180-400h160v-160H180v160Zm440 0h160v-160H620v160ZM180-180h160v-160H180v160Zm440 0h160v-160H620v160Z\"/>\n",
              "  </svg>\n",
              "    </button>\n",
              "\n",
              "  <style>\n",
              "    .colab-df-container {\n",
              "      display:flex;\n",
              "      gap: 12px;\n",
              "    }\n",
              "\n",
              "    .colab-df-convert {\n",
              "      background-color: #E8F0FE;\n",
              "      border: none;\n",
              "      border-radius: 50%;\n",
              "      cursor: pointer;\n",
              "      display: none;\n",
              "      fill: #1967D2;\n",
              "      height: 32px;\n",
              "      padding: 0 0 0 0;\n",
              "      width: 32px;\n",
              "    }\n",
              "\n",
              "    .colab-df-convert:hover {\n",
              "      background-color: #E2EBFA;\n",
              "      box-shadow: 0px 1px 2px rgba(60, 64, 67, 0.3), 0px 1px 3px 1px rgba(60, 64, 67, 0.15);\n",
              "      fill: #174EA6;\n",
              "    }\n",
              "\n",
              "    .colab-df-buttons div {\n",
              "      margin-bottom: 4px;\n",
              "    }\n",
              "\n",
              "    [theme=dark] .colab-df-convert {\n",
              "      background-color: #3B4455;\n",
              "      fill: #D2E3FC;\n",
              "    }\n",
              "\n",
              "    [theme=dark] .colab-df-convert:hover {\n",
              "      background-color: #434B5C;\n",
              "      box-shadow: 0px 1px 3px 1px rgba(0, 0, 0, 0.15);\n",
              "      filter: drop-shadow(0px 1px 2px rgba(0, 0, 0, 0.3));\n",
              "      fill: #FFFFFF;\n",
              "    }\n",
              "  </style>\n",
              "\n",
              "    <script>\n",
              "      const buttonEl =\n",
              "        document.querySelector('#df-a6d4547d-1a74-49ba-9841-e0b7004d3251 button.colab-df-convert');\n",
              "      buttonEl.style.display =\n",
              "        google.colab.kernel.accessAllowed ? 'block' : 'none';\n",
              "\n",
              "      async function convertToInteractive(key) {\n",
              "        const element = document.querySelector('#df-a6d4547d-1a74-49ba-9841-e0b7004d3251');\n",
              "        const dataTable =\n",
              "          await google.colab.kernel.invokeFunction('convertToInteractive',\n",
              "                                                    [key], {});\n",
              "        if (!dataTable) return;\n",
              "\n",
              "        const docLinkHtml = 'Like what you see? Visit the ' +\n",
              "          '<a target=\"_blank\" href=https://colab.research.google.com/notebooks/data_table.ipynb>data table notebook</a>'\n",
              "          + ' to learn more about interactive tables.';\n",
              "        element.innerHTML = '';\n",
              "        dataTable['output_type'] = 'display_data';\n",
              "        await google.colab.output.renderOutput(dataTable, element);\n",
              "        const docLink = document.createElement('div');\n",
              "        docLink.innerHTML = docLinkHtml;\n",
              "        element.appendChild(docLink);\n",
              "      }\n",
              "    </script>\n",
              "  </div>\n",
              "\n",
              "\n",
              "<div id=\"df-1a8b6830-370a-48d6-9cf1-fad1d20be83d\">\n",
              "  <button class=\"colab-df-quickchart\" onclick=\"quickchart('df-1a8b6830-370a-48d6-9cf1-fad1d20be83d')\"\n",
              "            title=\"Suggest charts\"\n",
              "            style=\"display:none;\">\n",
              "\n",
              "<svg xmlns=\"http://www.w3.org/2000/svg\" height=\"24px\"viewBox=\"0 0 24 24\"\n",
              "     width=\"24px\">\n",
              "    <g>\n",
              "        <path d=\"M19 3H5c-1.1 0-2 .9-2 2v14c0 1.1.9 2 2 2h14c1.1 0 2-.9 2-2V5c0-1.1-.9-2-2-2zM9 17H7v-7h2v7zm4 0h-2V7h2v10zm4 0h-2v-4h2v4z\"/>\n",
              "    </g>\n",
              "</svg>\n",
              "  </button>\n",
              "\n",
              "<style>\n",
              "  .colab-df-quickchart {\n",
              "      --bg-color: #E8F0FE;\n",
              "      --fill-color: #1967D2;\n",
              "      --hover-bg-color: #E2EBFA;\n",
              "      --hover-fill-color: #174EA6;\n",
              "      --disabled-fill-color: #AAA;\n",
              "      --disabled-bg-color: #DDD;\n",
              "  }\n",
              "\n",
              "  [theme=dark] .colab-df-quickchart {\n",
              "      --bg-color: #3B4455;\n",
              "      --fill-color: #D2E3FC;\n",
              "      --hover-bg-color: #434B5C;\n",
              "      --hover-fill-color: #FFFFFF;\n",
              "      --disabled-bg-color: #3B4455;\n",
              "      --disabled-fill-color: #666;\n",
              "  }\n",
              "\n",
              "  .colab-df-quickchart {\n",
              "    background-color: var(--bg-color);\n",
              "    border: none;\n",
              "    border-radius: 50%;\n",
              "    cursor: pointer;\n",
              "    display: none;\n",
              "    fill: var(--fill-color);\n",
              "    height: 32px;\n",
              "    padding: 0;\n",
              "    width: 32px;\n",
              "  }\n",
              "\n",
              "  .colab-df-quickchart:hover {\n",
              "    background-color: var(--hover-bg-color);\n",
              "    box-shadow: 0 1px 2px rgba(60, 64, 67, 0.3), 0 1px 3px 1px rgba(60, 64, 67, 0.15);\n",
              "    fill: var(--button-hover-fill-color);\n",
              "  }\n",
              "\n",
              "  .colab-df-quickchart-complete:disabled,\n",
              "  .colab-df-quickchart-complete:disabled:hover {\n",
              "    background-color: var(--disabled-bg-color);\n",
              "    fill: var(--disabled-fill-color);\n",
              "    box-shadow: none;\n",
              "  }\n",
              "\n",
              "  .colab-df-spinner {\n",
              "    border: 2px solid var(--fill-color);\n",
              "    border-color: transparent;\n",
              "    border-bottom-color: var(--fill-color);\n",
              "    animation:\n",
              "      spin 1s steps(1) infinite;\n",
              "  }\n",
              "\n",
              "  @keyframes spin {\n",
              "    0% {\n",
              "      border-color: transparent;\n",
              "      border-bottom-color: var(--fill-color);\n",
              "      border-left-color: var(--fill-color);\n",
              "    }\n",
              "    20% {\n",
              "      border-color: transparent;\n",
              "      border-left-color: var(--fill-color);\n",
              "      border-top-color: var(--fill-color);\n",
              "    }\n",
              "    30% {\n",
              "      border-color: transparent;\n",
              "      border-left-color: var(--fill-color);\n",
              "      border-top-color: var(--fill-color);\n",
              "      border-right-color: var(--fill-color);\n",
              "    }\n",
              "    40% {\n",
              "      border-color: transparent;\n",
              "      border-right-color: var(--fill-color);\n",
              "      border-top-color: var(--fill-color);\n",
              "    }\n",
              "    60% {\n",
              "      border-color: transparent;\n",
              "      border-right-color: var(--fill-color);\n",
              "    }\n",
              "    80% {\n",
              "      border-color: transparent;\n",
              "      border-right-color: var(--fill-color);\n",
              "      border-bottom-color: var(--fill-color);\n",
              "    }\n",
              "    90% {\n",
              "      border-color: transparent;\n",
              "      border-bottom-color: var(--fill-color);\n",
              "    }\n",
              "  }\n",
              "</style>\n",
              "\n",
              "  <script>\n",
              "    async function quickchart(key) {\n",
              "      const quickchartButtonEl =\n",
              "        document.querySelector('#' + key + ' button');\n",
              "      quickchartButtonEl.disabled = true;  // To prevent multiple clicks.\n",
              "      quickchartButtonEl.classList.add('colab-df-spinner');\n",
              "      try {\n",
              "        const charts = await google.colab.kernel.invokeFunction(\n",
              "            'suggestCharts', [key], {});\n",
              "      } catch (error) {\n",
              "        console.error('Error during call to suggestCharts:', error);\n",
              "      }\n",
              "      quickchartButtonEl.classList.remove('colab-df-spinner');\n",
              "      quickchartButtonEl.classList.add('colab-df-quickchart-complete');\n",
              "    }\n",
              "    (() => {\n",
              "      let quickchartButtonEl =\n",
              "        document.querySelector('#df-1a8b6830-370a-48d6-9cf1-fad1d20be83d button');\n",
              "      quickchartButtonEl.style.display =\n",
              "        google.colab.kernel.accessAllowed ? 'block' : 'none';\n",
              "    })();\n",
              "  </script>\n",
              "</div>\n",
              "\n",
              "    </div>\n",
              "  </div>\n"
            ],
            "text/plain": [
              "        0         1         2         3         4     5       6       7    \\\n",
              "0  2.211806  2.211806  1.343750  1.343750  0.468786   8.4  72.151  60.055   \n",
              "1  1.500000  1.500000  1.500000  1.500000  0.408362  24.0  70.135  60.055   \n",
              "2  2.231806  2.231806  1.355000  1.355000  0.462954   9.0  86.178  72.066   \n",
              "3  2.253472  2.253472  0.898148  0.898148  0.483890  10.0  86.178  72.066   \n",
              "4  2.243056  2.243056  0.541667  0.541667  0.424482  12.0  86.178  72.066   \n",
              "\n",
              "        8    9    ...  200  201  202  203  204  205  206  207  208  209  \n",
              "0  72.09390   32  ...    0    0    0    0    0    0    0    0    2    0  \n",
              "1  70.07825   30  ...    0    0    0    0    0    0    0    0    0    0  \n",
              "2  86.10955   38  ...    0    0    0    0    0    0    0    0    3    0  \n",
              "3  86.10955   38  ...    0    0    0    0    0    0    0    0    0    0  \n",
              "4  86.10955   38  ...    0    0    0    0    0    0    0    0    0    0  \n",
              "\n",
              "[5 rows x 210 columns]"
            ]
          },
          "execution_count": 43,
          "metadata": {},
          "output_type": "execute_result"
        }
      ],
      "source": [
        "descriptor_data = [calculate_descriptors(mol) for mol in molecule_list]\n",
        "df = pd.DataFrame(descriptor_data)\n",
        "df.head()"
      ]
    },
    {
      "cell_type": "code",
      "execution_count": 45,
      "metadata": {
        "colab": {
          "base_uri": "https://localhost:8080/",
          "height": 472
        },
        "id": "JfW41LBKqBrH",
        "outputId": "f686e398-c329-41fb-c7a0-1a31d3db4eb9"
      },
      "outputs": [
        {
          "data": {
            "image/png": "[encoded data removed]",
            "text/plain": [
              "<Figure size 640x480 with 1 Axes>"
            ]
          },
          "metadata": {},
          "output_type": "display_data"
        }
      ],
      "source": [
        "import matplotlib.pyplot as plt\n",
        "\n",
        "labels = [float(mol.GetProp('SOL')) for mol in molecule_list]\n",
        "\n",
        "plt.hist(labels, bins=20, edgecolor='black')\n",
        "plt.title('Distribution of Aqueous Solubility (logS)')\n",
        "plt.xlabel('logS')\n",
        "plt.ylabel('Frequency')\n",
        "plt.show()"
      ]
    },
    {
      "cell_type": "markdown",
      "metadata": {
        "id": "KRtVHEjH5M9m"
      },
      "source": [
        "## Ex6.II Feature Engineering and Training a model of regression.\n",
        "\n",
        "Now, we have the **df** dataframe that contains the descriptors for molecules and the **labels** list that contains the solvant property of molecules.\n",
        "\n",
        "1. Check the dataframe **df** to see whether it contains NaN values. How many row contained NaN values are there in the dataframe **df** ? Remove these rows from  **df** and **labels**.\n",
        "\n",
        "\n",
        "2. Apply the MinMaxScaler to the dataframe **df** to normalize the data.\n",
        "\n",
        "\n",
        "3. Construct and train a regression model.\n",
        "\n",
        "\n",
        "4. Calculate the square root error for the dataset"
      ]
    },
    {
      "cell_type": "code",
      "execution_count": 46,
      "metadata": {
        "colab": {
          "base_uri": "https://localhost:8080/"
        },
        "id": "gWvfR-8x5H84",
        "outputId": "f22afed8-4dd1-4709-833c-16ff3e31806c"
      },
      "outputs": [
        {
          "name": "stdout",
          "output_type": "stream",
          "text": [
            "Number of rows with NaN values: 12\n"
          ]
        }
      ],
      "source": [
        "nan_rows = df.isnull().sum(axis=1)\n",
        "nan_count = nan_rows.sum()\n",
        "print(f\"Number of rows with NaN values: {nan_count}\")\n",
        "\n",
        "df = df.dropna()\n",
        "labels = [label for i, label in enumerate(labels) if not nan_rows[i]]"
      ]
    },
    {
      "cell_type": "code",
      "execution_count": 47,
      "metadata": {
        "id": "JW_n4KsDqk1R"
      },
      "outputs": [],
      "source": [
        "from sklearn.preprocessing import MinMaxScaler\n",
        "\n",
        "scaler = MinMaxScaler()\n",
        "df_normalized = pd.DataFrame(scaler.fit_transform(df), columns=df.columns)"
      ]
    },
    {
      "cell_type": "code",
      "execution_count": 56,
      "metadata": {
        "colab": {
          "base_uri": "https://localhost:8080/",
          "height": 80
        },
        "id": "R777KrpJqrYz",
        "outputId": "10ad26da-bd5f-451c-b9cd-596192bdcb50"
      },
      "outputs": [
        {
          "data": {
            "text/html": [
              "<style>#sk-container-id-4 {\n",
              "  /* Definition of color scheme common for light and dark mode */\n",
              "  --sklearn-color-text: #000;\n",
              "  --sklearn-color-text-muted: #666;\n",
              "  --sklearn-color-line: gray;\n",
              "  /* Definition of color scheme for unfitted estimators */\n",
              "  --sklearn-color-unfitted-level-0: #fff5e6;\n",
              "  --sklearn-color-unfitted-level-1: #f6e4d2;\n",
              "  --sklearn-color-unfitted-level-2: #ffe0b3;\n",
              "  --sklearn-color-unfitted-level-3: chocolate;\n",
              "  /* Definition of color scheme for fitted estimators */\n",
              "  --sklearn-color-fitted-level-0: #f0f8ff;\n",
              "  --sklearn-color-fitted-level-1: #d4ebff;\n",
              "  --sklearn-color-fitted-level-2: #b3dbfd;\n",
              "  --sklearn-color-fitted-level-3: cornflowerblue;\n",
              "\n",
              "  /* Specific color for light theme */\n",
              "  --sklearn-color-text-on-default-background: var(--sg-text-color, var(--theme-code-foreground, var(--jp-content-font-color1, black)));\n",
              "  --sklearn-color-background: var(--sg-background-color, var(--theme-background, var(--jp-layout-color0, white)));\n",
              "  --sklearn-color-border-box: var(--sg-text-color, var(--theme-code-foreground, var(--jp-content-font-color1, black)));\n",
              "  --sklearn-color-icon: #696969;\n",
              "\n",
              "  @media (prefers-color-scheme: dark) {\n",
              "    /* Redefinition of color scheme for dark theme */\n",
              "    --sklearn-color-text-on-default-background: var(--sg-text-color, var(--theme-code-foreground, var(--jp-content-font-color1, white)));\n",
              "    --sklearn-color-background: var(--sg-background-color, var(--theme-background, var(--jp-layout-color0, #111)));\n",
              "    --sklearn-color-border-box: var(--sg-text-color, var(--theme-code-foreground, var(--jp-content-font-color1, white)));\n",
              "    --sklearn-color-icon: #878787;\n",
              "  }\n",
              "}\n",
              "\n",
              "#sk-container-id-4 {\n",
              "  color: var(--sklearn-color-text);\n",
              "}\n",
              "\n",
              "#sk-container-id-4 pre {\n",
              "  padding: 0;\n",
              "}\n",
              "\n",
              "#sk-container-id-4 input.sk-hidden--visually {\n",
              "  border: 0;\n",
              "  clip: rect(1px 1px 1px 1px);\n",
              "  clip: rect(1px, 1px, 1px, 1px);\n",
              "  height: 1px;\n",
              "  margin: -1px;\n",
              "  overflow: hidden;\n",
              "  padding: 0;\n",
              "  position: absolute;\n",
              "  width: 1px;\n",
              "}\n",
              "\n",
              "#sk-container-id-4 div.sk-dashed-wrapped {\n",
              "  border: 1px dashed var(--sklearn-color-line);\n",
              "  margin: 0 0.4em 0.5em 0.4em;\n",
              "  box-sizing: border-box;\n",
              "  padding-bottom: 0.4em;\n",
              "  background-color: var(--sklearn-color-background);\n",
              "}\n",
              "\n",
              "#sk-container-id-4 div.sk-container {\n",
              "  /* jupyter's `normalize.less` sets `[hidden] { display: none; }`\n",
              "     but bootstrap.min.css set `[hidden] { display: none !important; }`\n",
              "     so we also need the `!important` here to be able to override the\n",
              "     default hidden behavior on the sphinx rendered scikit-learn.org.\n",
              "     See: https://github.com/scikit-learn/scikit-learn/issues/21755 */\n",
              "  display: inline-block !important;\n",
              "  position: relative;\n",
              "}\n",
              "\n",
              "#sk-container-id-4 div.sk-text-repr-fallback {\n",
              "  display: none;\n",
              "}\n",
              "\n",
              "div.sk-parallel-item,\n",
              "div.sk-serial,\n",
              "div.sk-item {\n",
              "  /* draw centered vertical line to link estimators */\n",
              "  background-image: linear-gradient(var(--sklearn-color-text-on-default-background), var(--sklearn-color-text-on-default-background));\n",
              "  background-size: 2px 100%;\n",
              "  background-repeat: no-repeat;\n",
              "  background-position: center center;\n",
              "}\n",
              "\n",
              "/* Parallel-specific style estimator block */\n",
              "\n",
              "#sk-container-id-4 div.sk-parallel-item::after {\n",
              "  content: \"\";\n",
              "  width: 100%;\n",
              "  border-bottom: 2px solid var(--sklearn-color-text-on-default-background);\n",
              "  flex-grow: 1;\n",
              "}\n",
              "\n",
              "#sk-container-id-4 div.sk-parallel {\n",
              "  display: flex;\n",
              "  align-items: stretch;\n",
              "  justify-content: center;\n",
              "  background-color: var(--sklearn-color-background);\n",
              "  position: relative;\n",
              "}\n",
              "\n",
              "#sk-container-id-4 div.sk-parallel-item {\n",
              "  display: flex;\n",
              "  flex-direction: column;\n",
              "}\n",
              "\n",
              "#sk-container-id-4 div.sk-parallel-item:first-child::after {\n",
              "  align-self: flex-end;\n",
              "  width: 50%;\n",
              "}\n",
              "\n",
              "#sk-container-id-4 div.sk-parallel-item:last-child::after {\n",
              "  align-self: flex-start;\n",
              "  width: 50%;\n",
              "}\n",
              "\n",
              "#sk-container-id-4 div.sk-parallel-item:only-child::after {\n",
              "  width: 0;\n",
              "}\n",
              "\n",
              "/* Serial-specific style estimator block */\n",
              "\n",
              "#sk-container-id-4 div.sk-serial {\n",
              "  display: flex;\n",
              "  flex-direction: column;\n",
              "  align-items: center;\n",
              "  background-color: var(--sklearn-color-background);\n",
              "  padding-right: 1em;\n",
              "  padding-left: 1em;\n",
              "}\n",
              "\n",
              "\n",
              "/* Toggleable style: style used for estimator/Pipeline/ColumnTransformer box that is\n",
              "clickable and can be expanded/collapsed.\n",
              "- Pipeline and ColumnTransformer use this feature and define the default style\n",
              "- Estimators will overwrite some part of the style using the `sk-estimator` class\n",
              "*/\n",
              "\n",
              "/* Pipeline and ColumnTransformer style (default) */\n",
              "\n",
              "#sk-container-id-4 div.sk-toggleable {\n",
              "  /* Default theme specific background. It is overwritten whether we have a\n",
              "  specific estimator or a Pipeline/ColumnTransformer */\n",
              "  background-color: var(--sklearn-color-background);\n",
              "}\n",
              "\n",
              "/* Toggleable label */\n",
              "#sk-container-id-4 label.sk-toggleable__label {\n",
              "  cursor: pointer;\n",
              "  display: flex;\n",
              "  width: 100%;\n",
              "  margin-bottom: 0;\n",
              "  padding: 0.5em;\n",
              "  box-sizing: border-box;\n",
              "  text-align: center;\n",
              "  align-items: start;\n",
              "  justify-content: space-between;\n",
              "  gap: 0.5em;\n",
              "}\n",
              "\n",
              "#sk-container-id-4 label.sk-toggleable__label .caption {\n",
              "  font-size: 0.6rem;\n",
              "  font-weight: lighter;\n",
              "  color: var(--sklearn-color-text-muted);\n",
              "}\n",
              "\n",
              "#sk-container-id-4 label.sk-toggleable__label-arrow:before {\n",
              "  /* Arrow on the left of the label */\n",
              "  content: \"▸\";\n",
              "  float: left;\n",
              "  margin-right: 0.25em;\n",
              "  color: var(--sklearn-color-icon);\n",
              "}\n",
              "\n",
              "#sk-container-id-4 label.sk-toggleable__label-arrow:hover:before {\n",
              "  color: var(--sklearn-color-text);\n",
              "}\n",
              "\n",
              "/* Toggleable content - dropdown */\n",
              "\n",
              "#sk-container-id-4 div.sk-toggleable__content {\n",
              "  max-height: 0;\n",
              "  max-width: 0;\n",
              "  overflow: hidden;\n",
              "  text-align: left;\n",
              "  /* unfitted */\n",
              "  background-color: var(--sklearn-color-unfitted-level-0);\n",
              "}\n",
              "\n",
              "#sk-container-id-4 div.sk-toggleable__content.fitted {\n",
              "  /* fitted */\n",
              "  background-color: var(--sklearn-color-fitted-level-0);\n",
              "}\n",
              "\n",
              "#sk-container-id-4 div.sk-toggleable__content pre {\n",
              "  margin: 0.2em;\n",
              "  border-radius: 0.25em;\n",
              "  color: var(--sklearn-color-text);\n",
              "  /* unfitted */\n",
              "  background-color: var(--sklearn-color-unfitted-level-0);\n",
              "}\n",
              "\n",
              "#sk-container-id-4 div.sk-toggleable__content.fitted pre {\n",
              "  /* unfitted */\n",
              "  background-color: var(--sklearn-color-fitted-level-0);\n",
              "}\n",
              "\n",
              "#sk-container-id-4 input.sk-toggleable__control:checked~div.sk-toggleable__content {\n",
              "  /* Expand drop-down */\n",
              "  max-height: 200px;\n",
              "  max-width: 100%;\n",
              "  overflow: auto;\n",
              "}\n",
              "\n",
              "#sk-container-id-4 input.sk-toggleable__control:checked~label.sk-toggleable__label-arrow:before {\n",
              "  content: \"▾\";\n",
              "}\n",
              "\n",
              "/* Pipeline/ColumnTransformer-specific style */\n",
              "\n",
              "#sk-container-id-4 div.sk-label input.sk-toggleable__control:checked~label.sk-toggleable__label {\n",
              "  color: var(--sklearn-color-text);\n",
              "  background-color: var(--sklearn-color-unfitted-level-2);\n",
              "}\n",
              "\n",
              "#sk-container-id-4 div.sk-label.fitted input.sk-toggleable__control:checked~label.sk-toggleable__label {\n",
              "  background-color: var(--sklearn-color-fitted-level-2);\n",
              "}\n",
              "\n",
              "/* Estimator-specific style */\n",
              "\n",
              "/* Colorize estimator box */\n",
              "#sk-container-id-4 div.sk-estimator input.sk-toggleable__control:checked~label.sk-toggleable__label {\n",
              "  /* unfitted */\n",
              "  background-color: var(--sklearn-color-unfitted-level-2);\n",
              "}\n",
              "\n",
              "#sk-container-id-4 div.sk-estimator.fitted input.sk-toggleable__control:checked~label.sk-toggleable__label {\n",
              "  /* fitted */\n",
              "  background-color: var(--sklearn-color-fitted-level-2);\n",
              "}\n",
              "\n",
              "#sk-container-id-4 div.sk-label label.sk-toggleable__label,\n",
              "#sk-container-id-4 div.sk-label label {\n",
              "  /* The background is the default theme color */\n",
              "  color: var(--sklearn-color-text-on-default-background);\n",
              "}\n",
              "\n",
              "/* On hover, darken the color of the background */\n",
              "#sk-container-id-4 div.sk-label:hover label.sk-toggleable__label {\n",
              "  color: var(--sklearn-color-text);\n",
              "  background-color: var(--sklearn-color-unfitted-level-2);\n",
              "}\n",
              "\n",
              "/* Label box, darken color on hover, fitted */\n",
              "#sk-container-id-4 div.sk-label.fitted:hover label.sk-toggleable__label.fitted {\n",
              "  color: var(--sklearn-color-text);\n",
              "  background-color: var(--sklearn-color-fitted-level-2);\n",
              "}\n",
              "\n",
              "/* Estimator label */\n",
              "\n",
              "#sk-container-id-4 div.sk-label label {\n",
              "  font-family: monospace;\n",
              "  font-weight: bold;\n",
              "  display: inline-block;\n",
              "  line-height: 1.2em;\n",
              "}\n",
              "\n",
              "#sk-container-id-4 div.sk-label-container {\n",
              "  text-align: center;\n",
              "}\n",
              "\n",
              "/* Estimator-specific */\n",
              "#sk-container-id-4 div.sk-estimator {\n",
              "  font-family: monospace;\n",
              "  border: 1px dotted var(--sklearn-color-border-box);\n",
              "  border-radius: 0.25em;\n",
              "  box-sizing: border-box;\n",
              "  margin-bottom: 0.5em;\n",
              "  /* unfitted */\n",
              "  background-color: var(--sklearn-color-unfitted-level-0);\n",
              "}\n",
              "\n",
              "#sk-container-id-4 div.sk-estimator.fitted {\n",
              "  /* fitted */\n",
              "  background-color: var(--sklearn-color-fitted-level-0);\n",
              "}\n",
              "\n",
              "/* on hover */\n",
              "#sk-container-id-4 div.sk-estimator:hover {\n",
              "  /* unfitted */\n",
              "  background-color: var(--sklearn-color-unfitted-level-2);\n",
              "}\n",
              "\n",
              "#sk-container-id-4 div.sk-estimator.fitted:hover {\n",
              "  /* fitted */\n",
              "  background-color: var(--sklearn-color-fitted-level-2);\n",
              "}\n",
              "\n",
              "/* Specification for estimator info (e.g. \"i\" and \"?\") */\n",
              "\n",
              "/* Common style for \"i\" and \"?\" */\n",
              "\n",
              ".sk-estimator-doc-link,\n",
              "a:link.sk-estimator-doc-link,\n",
              "a:visited.sk-estimator-doc-link {\n",
              "  float: right;\n",
              "  font-size: smaller;\n",
              "  line-height: 1em;\n",
              "  font-family: monospace;\n",
              "  background-color: var(--sklearn-color-background);\n",
              "  border-radius: 1em;\n",
              "  height: 1em;\n",
              "  width: 1em;\n",
              "  text-decoration: none !important;\n",
              "  margin-left: 0.5em;\n",
              "  text-align: center;\n",
              "  /* unfitted */\n",
              "  border: var(--sklearn-color-unfitted-level-1) 1pt solid;\n",
              "  color: var(--sklearn-color-unfitted-level-1);\n",
              "}\n",
              "\n",
              ".sk-estimator-doc-link.fitted,\n",
              "a:link.sk-estimator-doc-link.fitted,\n",
              "a:visited.sk-estimator-doc-link.fitted {\n",
              "  /* fitted */\n",
              "  border: var(--sklearn-color-fitted-level-1) 1pt solid;\n",
              "  color: var(--sklearn-color-fitted-level-1);\n",
              "}\n",
              "\n",
              "/* On hover */\n",
              "div.sk-estimator:hover .sk-estimator-doc-link:hover,\n",
              ".sk-estimator-doc-link:hover,\n",
              "div.sk-label-container:hover .sk-estimator-doc-link:hover,\n",
              ".sk-estimator-doc-link:hover {\n",
              "  /* unfitted */\n",
              "  background-color: var(--sklearn-color-unfitted-level-3);\n",
              "  color: var(--sklearn-color-background);\n",
              "  text-decoration: none;\n",
              "}\n",
              "\n",
              "div.sk-estimator.fitted:hover .sk-estimator-doc-link.fitted:hover,\n",
              ".sk-estimator-doc-link.fitted:hover,\n",
              "div.sk-label-container:hover .sk-estimator-doc-link.fitted:hover,\n",
              ".sk-estimator-doc-link.fitted:hover {\n",
              "  /* fitted */\n",
              "  background-color: var(--sklearn-color-fitted-level-3);\n",
              "  color: var(--sklearn-color-background);\n",
              "  text-decoration: none;\n",
              "}\n",
              "\n",
              "/* Span, style for the box shown on hovering the info icon */\n",
              ".sk-estimator-doc-link span {\n",
              "  display: none;\n",
              "  z-index: 9999;\n",
              "  position: relative;\n",
              "  font-weight: normal;\n",
              "  right: .2ex;\n",
              "  padding: .5ex;\n",
              "  margin: .5ex;\n",
              "  width: min-content;\n",
              "  min-width: 20ex;\n",
              "  max-width: 50ex;\n",
              "  color: var(--sklearn-color-text);\n",
              "  box-shadow: 2pt 2pt 4pt #999;\n",
              "  /* unfitted */\n",
              "  background: var(--sklearn-color-unfitted-level-0);\n",
              "  border: .5pt solid var(--sklearn-color-unfitted-level-3);\n",
              "}\n",
              "\n",
              ".sk-estimator-doc-link.fitted span {\n",
              "  /* fitted */\n",
              "  background: var(--sklearn-color-fitted-level-0);\n",
              "  border: var(--sklearn-color-fitted-level-3);\n",
              "}\n",
              "\n",
              ".sk-estimator-doc-link:hover span {\n",
              "  display: block;\n",
              "}\n",
              "\n",
              "/* \"?\"-specific style due to the `<a>` HTML tag */\n",
              "\n",
              "#sk-container-id-4 a.estimator_doc_link {\n",
              "  float: right;\n",
              "  font-size: 1rem;\n",
              "  line-height: 1em;\n",
              "  font-family: monospace;\n",
              "  background-color: var(--sklearn-color-background);\n",
              "  border-radius: 1rem;\n",
              "  height: 1rem;\n",
              "  width: 1rem;\n",
              "  text-decoration: none;\n",
              "  /* unfitted */\n",
              "  color: var(--sklearn-color-unfitted-level-1);\n",
              "  border: var(--sklearn-color-unfitted-level-1) 1pt solid;\n",
              "}\n",
              "\n",
              "#sk-container-id-4 a.estimator_doc_link.fitted {\n",
              "  /* fitted */\n",
              "  border: var(--sklearn-color-fitted-level-1) 1pt solid;\n",
              "  color: var(--sklearn-color-fitted-level-1);\n",
              "}\n",
              "\n",
              "/* On hover */\n",
              "#sk-container-id-4 a.estimator_doc_link:hover {\n",
              "  /* unfitted */\n",
              "  background-color: var(--sklearn-color-unfitted-level-3);\n",
              "  color: var(--sklearn-color-background);\n",
              "  text-decoration: none;\n",
              "}\n",
              "\n",
              "#sk-container-id-4 a.estimator_doc_link.fitted:hover {\n",
              "  /* fitted */\n",
              "  background-color: var(--sklearn-color-fitted-level-3);\n",
              "}\n",
              "</style><div id=\"sk-container-id-4\" class=\"sk-top-container\"><div class=\"sk-text-repr-fallback\"><pre>LinearRegression()</pre><b>In a Jupyter environment, please rerun this cell to show the HTML representation or trust the notebook. <br />On GitHub, the HTML representation is unable to render, please try loading this page with nbviewer.org.</b></div><div class=\"sk-container\" hidden><div class=\"sk-item\"><div class=\"sk-estimator fitted sk-toggleable\"><input class=\"sk-toggleable__control sk-hidden--visually\" id=\"sk-estimator-id-4\" type=\"checkbox\" checked><label for=\"sk-estimator-id-4\" class=\"sk-toggleable__label fitted sk-toggleable__label-arrow\"><div><div>LinearRegression</div></div><div><a class=\"sk-estimator-doc-link fitted\" rel=\"noreferrer\" target=\"_blank\" href=\"https://scikit-learn.org/1.6/modules/generated/sklearn.linear_model.LinearRegression.html\">?<span>Documentation for LinearRegression</span></a><span class=\"sk-estimator-doc-link fitted\">i<span>Fitted</span></span></div></label><div class=\"sk-toggleable__content fitted\"><pre>LinearRegression()</pre></div> </div></div></div></div>"
            ],
            "text/plain": [
              "LinearRegression()"
            ]
          },
          "execution_count": 56,
          "metadata": {},
          "output_type": "execute_result"
        }
      ],
      "source": [
        "from sklearn.model_selection import train_test_split\n",
        "from sklearn.linear_model import LinearRegression\n",
        "\n",
        "X_train, X_test, y_train, y_test = train_test_split(df_normalized, labels, test_size=0.2, random_state=42)\n",
        "\n",
        "model = LinearRegression()\n",
        "model.fit(X_train, y_train)"
      ]
    },
    {
      "cell_type": "code",
      "execution_count": 58,
      "metadata": {
        "colab": {
          "base_uri": "https://localhost:8080/"
        },
        "id": "jVTl0kLxq2W5",
        "outputId": "6041e1e9-9ebc-4d54-bc1d-d4e57cfb775d"
      },
      "outputs": [
        {
          "name": "stdout",
          "output_type": "stream",
          "text": [
            "Root Mean Squared Error (RMSE): 0.669919453248366\n"
          ]
        }
      ],
      "source": [
        "from sklearn.metrics import mean_squared_error\n",
        "\n",
        "predictions = model.predict(X_test)\n",
        "mse = mean_squared_error(y_test, predictions)\n",
        "rmse = np.sqrt(mse)\n",
        "print(f\"Root Mean Squared Error (RMSE): {rmse}\")"
      ]
    },
    {
      "cell_type": "markdown",
      "metadata": {
        "id": "kESW-Pem5zPX"
      },
      "source": [
        "## Ex6.III Prepare data for test  and test model\n",
        "\n",
        "\n",
        "1. Download file from : https://github.com/rdkit/rdkit/blob/master/Docs/Book/data/solubility.test.sdf\n",
        "\n",
        "2. Read molecules from this file and store them in a list named **list_molecule_test**.\n",
        "\n",
        "\n",
        "3. Take a molecule from the **list_molecule_test** and then calculate its descriptions thank to the **calculate_descriptors(mol)** function that you've coded above.\n",
        "\n",
        "\n",
        "4. Apply **minmaxscaler** to these descriptors. Note that **minmaxscaler**  is one that you've created at Ex6.II.\n",
        "\n",
        "\n",
        "5. Use the model that you've trained to predict the aqueous solubility (logS) of the molecule. Compare to the real logS value of the molecule.\n",
        "\n",
        "6. (Optional) Calculate the mean square root error of the model for this dataset.\n",
        "\n",
        "\n",
        "\n",
        "Note: If there exists problem of reading the file solubility.test.sdf as\n",
        "\"RDKit ERROR: [09:28:36] ERROR: moving to the beginning of the next molecule\n",
        "RDKit ERROR: [09:32:48] ERROR: Counts line too short: '' on line4\"\n",
        "so, go to the url, click \"raw\" and save this file by hand. The error will be gone away\n"
      ]
    },
    {
      "cell_type": "code",
      "execution_count": 63,
      "metadata": {
        "id": "SMo-oKP-Rhv-"
      },
      "outputs": [],
      "source": [
        "sdf_test_path = 'solubility.train.sdf'\n",
        "suppl_test = SDMolSupplier(sdf_test_path, removeHs=False)\n",
        "list_molecule_test = [mol for mol in suppl_test if mol is not None]\n",
        "\n",
        "descriptor_data_test = [calculate_descriptors(mol) for mol in list_molecule_test]\n",
        "df_test = pd.DataFrame(descriptor_data_test)\n",
        "labels_test = [float(mol.GetProp('SOL')) for mol in list_molecule_test]"
      ]
    },
    {
      "cell_type": "code",
      "execution_count": 64,
      "metadata": {
        "id": "K6Y94sl8sHEQ"
      },
      "outputs": [],
      "source": [
        "nan_rows_test = df_test.isnull().sum(axis=1)\n",
        "df_test = df_test.dropna()\n",
        "labels_test = [label for i, label in enumerate(labels_test) if not nan_rows_test[i]]"
      ]
    },
    {
      "cell_type": "code",
      "execution_count": 71,
      "metadata": {
        "id": "IyDOIUnmsKGP"
      },
      "outputs": [],
      "source": [
        "df_test_normalized = pd.DataFrame(scaler.transform(df_test), columns=df_test.columns)\n",
        "predictions_test = model.predict(df_test_normalized)"
      ]
    },
    {
      "cell_type": "code",
      "execution_count": 72,
      "metadata": {
        "colab": {
          "base_uri": "https://localhost:8080/"
        },
        "id": "oDNiK3slsZMb",
        "outputId": "a8076cb5-1adb-46a8-bc5e-30f636cca60a"
      },
      "outputs": [
        {
          "name": "stdout",
          "output_type": "stream",
          "text": [
            "Molecule 1: Actual logS: -3.18 | Predicted logS: -3.4825773635811856\n",
            "Molecule 2: Actual logS: -2.64 | Predicted logS: -2.5411659338323176\n",
            "Molecule 3: Actual logS: -3.84 | Predicted logS: -4.143554713101722\n",
            "Molecule 4: Actual logS: -3.74 | Predicted logS: -3.396106360672974\n",
            "Molecule 5: Actual logS: -3.55 | Predicted logS: -3.441736769577645\n",
            "Molecule 6: Actual logS: -3.1 | Predicted logS: -3.2515796153179934\n",
            "Molecule 7: Actual logS: -3.3 | Predicted logS: -3.020379671248662\n",
            "Molecule 8: Actual logS: -4.53 | Predicted logS: -4.673897967623375\n",
            "Molecule 9: Actual logS: -3.85 | Predicted logS: -3.5874566058944595\n",
            "Molecule 10: Actual logS: -5.24 | Predicted logS: -5.188681912693113\n"
          ]
        }
      ],
      "source": [
        "for i in range(10):\n",
        "    print(f\"Molecule {i + 1}: Actual logS: {labels_test[i]} | Predicted logS: {predictions_test[i]}\")"
      ]
    },
    {
      "cell_type": "code",
      "execution_count": 73,
      "metadata": {
        "colab": {
          "base_uri": "https://localhost:8080/"
        },
        "id": "5Bvl0zbys467",
        "outputId": "5379e5db-6e2b-4095-9888-08e2f9a33238"
      },
      "outputs": [
        {
          "name": "stdout",
          "output_type": "stream",
          "text": [
            "Root Mean Squared Error (RMSE) for test dataset: 0.5275494048858482\n"
          ]
        }
      ],
      "source": [
        "#Bonus\n",
        "mse_test = mean_squared_error(labels_test, predictions_test)\n",
        "rmse_test = np.sqrt(mse_test)\n",
        "print(f\"Root Mean Squared Error (RMSE) for test dataset: {rmse_test}\")"
      ]
    }
  ],
  "metadata": {
    "colab": {
      "provenance": []
    },
    "kernelspec": {
      "display_name": "Python 3",
      "name": "python3"
    },
    "language_info": {
      "name": "python"
    }
  },
  "nbformat": 4,
  "nbformat_minor": 0
}
